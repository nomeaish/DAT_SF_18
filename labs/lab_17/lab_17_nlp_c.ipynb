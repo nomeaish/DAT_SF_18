{
 "cells": [
  {
   "cell_type": "markdown",
   "metadata": {},
   "source": [
    "# stop words, tf-idf\n",
    "\n",
    "Let's investigate one of the most useful feature weightings, and how stop words derive naturally from that. To start, let's load a set of small documents."
   ]
  },
  {
   "cell_type": "code",
   "execution_count": 1,
   "metadata": {
    "collapsed": false
   },
   "outputs": [],
   "source": [
    "import pandas as pd\n",
    "import numpy as np"
   ]
  },
  {
   "cell_type": "code",
   "execution_count": 2,
   "metadata": {
    "collapsed": false
   },
   "outputs": [],
   "source": [
    "# load data\n",
    "try:\n",
    "    df = pd.read_csv('../data/nlp_data/rt_critics.csv')\n",
    "except IOError:\n",
    "    print 'cannot find file'"
   ]
  },
  {
   "cell_type": "code",
   "execution_count": 3,
   "metadata": {
    "collapsed": false
   },
   "outputs": [
    {
     "name": "stdout",
     "output_type": "stream",
     "text": [
      "<class 'pandas.core.frame.DataFrame'>\n",
      "Int64Index: 14072 entries, 0 to 14071\n",
      "Data columns (total 8 columns):\n",
      "critic         13382 non-null object\n",
      "fresh          14072 non-null object\n",
      "imdb           14072 non-null float64\n",
      "publication    14072 non-null object\n",
      "quote          14072 non-null object\n",
      "review_date    14072 non-null object\n",
      "rtid           14072 non-null float64\n",
      "title          14072 non-null object\n",
      "dtypes: float64(2), object(6)\n",
      "memory usage: 989.4+ KB\n"
     ]
    }
   ],
   "source": [
    "df.info()"
   ]
  },
  {
   "cell_type": "code",
   "execution_count": 4,
   "metadata": {
    "collapsed": false
   },
   "outputs": [
    {
     "data": {
      "text/html": [
       "<div>\n",
       "<table border=\"1\" class=\"dataframe\">\n",
       "  <thead>\n",
       "    <tr style=\"text-align: right;\">\n",
       "      <th></th>\n",
       "      <th>critic</th>\n",
       "      <th>fresh</th>\n",
       "      <th>imdb</th>\n",
       "      <th>publication</th>\n",
       "      <th>quote</th>\n",
       "      <th>review_date</th>\n",
       "      <th>rtid</th>\n",
       "      <th>title</th>\n",
       "    </tr>\n",
       "  </thead>\n",
       "  <tbody>\n",
       "    <tr>\n",
       "      <th>0</th>\n",
       "      <td>Derek Adams</td>\n",
       "      <td>fresh</td>\n",
       "      <td>114709</td>\n",
       "      <td>Time Out</td>\n",
       "      <td>So ingenious in concept, design and execution ...</td>\n",
       "      <td>2009-10-04</td>\n",
       "      <td>9559</td>\n",
       "      <td>Toy story</td>\n",
       "    </tr>\n",
       "    <tr>\n",
       "      <th>1</th>\n",
       "      <td>Richard Corliss</td>\n",
       "      <td>fresh</td>\n",
       "      <td>114709</td>\n",
       "      <td>TIME Magazine</td>\n",
       "      <td>The year's most inventive comedy.</td>\n",
       "      <td>2008-08-31</td>\n",
       "      <td>9559</td>\n",
       "      <td>Toy story</td>\n",
       "    </tr>\n",
       "  </tbody>\n",
       "</table>\n",
       "</div>"
      ],
      "text/plain": [
       "            critic  fresh    imdb    publication  \\\n",
       "0      Derek Adams  fresh  114709       Time Out   \n",
       "1  Richard Corliss  fresh  114709  TIME Magazine   \n",
       "\n",
       "                                               quote review_date  rtid  \\\n",
       "0  So ingenious in concept, design and execution ...  2009-10-04  9559   \n",
       "1                  The year's most inventive comedy.  2008-08-31  9559   \n",
       "\n",
       "       title  \n",
       "0  Toy story  \n",
       "1  Toy story  "
      ]
     },
     "execution_count": 4,
     "metadata": {},
     "output_type": "execute_result"
    }
   ],
   "source": [
    "df.head(2)"
   ]
  },
  {
   "cell_type": "code",
   "execution_count": 5,
   "metadata": {
    "collapsed": false
   },
   "outputs": [
    {
     "data": {
      "text/plain": [
       "['So ingenious in concept, design and execution that you could watch it on a postage stamp-sized screen and still be engulfed by its charm.',\n",
       " \"The year's most inventive comedy.\",\n",
       " 'A winning animated feature that has something for everyone on the age spectrum.',\n",
       " \"The film sports a provocative and appealing story that's every bit the equal of this technical achievement.\",\n",
       " \"An entertaining computer-generated, hyperrealist animation feature (1995) that's also in effect a toy catalog.\"]"
      ]
     },
     "execution_count": 5,
     "metadata": {},
     "output_type": "execute_result"
    }
   ],
   "source": [
    "# It seems silly to call such short blurbs 'documents', but we'll stick with the NLP nomenclature.\n",
    "\n",
    "documents = list(df['quote'])\n",
    "documents[:5]"
   ]
  },
  {
   "cell_type": "markdown",
   "metadata": {},
   "source": [
    "## Document Frequency\n",
    "\n",
    "Let's start by calculating the document frequency for words in these documents. For this task, let's also remove all the punctuation marks and make everything lower-case."
   ]
  },
  {
   "cell_type": "code",
   "execution_count": 6,
   "metadata": {
    "collapsed": false
   },
   "outputs": [],
   "source": [
    "from nltk.tokenize import wordpunct_tokenize  # for tokenizing our text\n",
    "import string  # helps with removing punctuation\n",
    "from collections import Counter  # great dict-like datastructure for counting things"
   ]
  },
  {
   "cell_type": "code",
   "execution_count": 7,
   "metadata": {
    "collapsed": false
   },
   "outputs": [
    {
     "name": "stdout",
     "output_type": "stream",
     "text": [
      "!\"#$%&'()*+,-./:;<=>?@[\\]^_`{|}~\n"
     ]
    }
   ],
   "source": [
    "print string.punctuation"
   ]
  },
  {
   "cell_type": "code",
   "execution_count": 8,
   "metadata": {
    "collapsed": false
   },
   "outputs": [
    {
     "name": "stdout",
     "output_type": "stream",
     "text": [
      "a few tokens: [['so', 'ingenious', 'in', 'concept', 'design', 'and', 'execution', 'that', 'you', 'could', 'watch', 'it', 'on', 'a', 'postage', 'stamp', 'sized', 'screen', 'and', 'still', 'be', 'engulfed', 'by', 'its', 'charm'], ['the', 'years', 'most', 'inventive', 'comedy'], ['a', 'winning', 'animated', 'feature', 'that', 'has', 'something', 'for', 'everyone', 'on', 'the', 'age', 'spectrum']]\n",
      "number of tokens: 280092\n",
      "number of unique tokens: 22424\n",
      "number of documents: 14072\n"
     ]
    }
   ],
   "source": [
    "# This is a bit of text cleanup\n",
    "word_bag_list = []\n",
    "for doc in documents:\n",
    "    cleaned = doc.lower().replace('-', ' ')  # make lowercase and split hyphenated words in two\n",
    "    for c in string.punctuation:  # strip punctuation marks.\n",
    "        cleaned = cleaned.replace(c, '')\n",
    "    word_bag_list.append(wordpunct_tokenize(cleaned))\n",
    "\n",
    "# How do things look?\n",
    "print 'a few tokens:', word_bag_list[:3]\n",
    "\n",
    "# this flattens the nested lists into one big list for some stats\n",
    "token_list = []\n",
    "for tokens in word_bag_list:\n",
    "    token_list.extend(tokens)\n",
    "print 'number of tokens:', len(token_list)\n",
    "print 'number of unique tokens:', len(set(token_list))\n",
    "print 'number of documents:', len(word_bag_list)"
   ]
  },
  {
   "cell_type": "code",
   "execution_count": 10,
   "metadata": {
    "collapsed": false
   },
   "outputs": [
    {
     "data": {
      "text/plain": [
       "[('the', 0.6140562819783968),\n",
       " ('a', 0.5035531552018192),\n",
       " ('and', 0.48969584991472426),\n",
       " ('of', 0.4640420693575895),\n",
       " ('is', 0.3320068220579875),\n",
       " ('to', 0.32106310403638433),\n",
       " ('in', 0.23848777714610575),\n",
       " ('that', 0.20082433200682206),\n",
       " ('its', 0.1991898806139852),\n",
       " ('it', 0.1960631040363843),\n",
       " ('with', 0.15513075611142696),\n",
       " ('but', 0.15157760090960773),\n",
       " ('this', 0.1467453098351336),\n",
       " ('movie', 0.12933484934621944),\n",
       " ('film', 0.12926378624218307),\n",
       " ('for', 0.1286242183058556),\n",
       " ('as', 0.12784252416145536),\n",
       " ('an', 0.10993462194428652),\n",
       " ('be', 0.08484934621944286),\n",
       " ('on', 0.08449403069926094)]"
      ]
     },
     "execution_count": 10,
     "metadata": {},
     "output_type": "execute_result"
    }
   ],
   "source": [
    "# calculate the document frequency of all the unique tokens in the bags of words.\n",
    "\n",
    "df = Counter()  # initialize this dict-like thing.\n",
    "\n",
    "for doc in word_bag_list:\n",
    "    # FILL IN CODE\n",
    "    # count up the times words appear in INDIVIDUAL documents (not the total across all documents)\n",
    "    for token in set(doc):\n",
    "        df[token] += 1\n",
    "        \n",
    "for token in df:\n",
    "    # normalize the counts by the number of documents (are you getting zeros? Think datatypes.)\n",
    "    df[token] = df[token] / float(len(documents))\n",
    "\n",
    "# this last line prints the 20 highest-scoring words and their scores\n",
    "df.most_common(20)"
   ]
  },
  {
   "cell_type": "markdown",
   "metadata": {},
   "source": [
    "## Stop Words\n",
    "\n",
    "Which words are likely to be stop words? The ones that show up in the most documents! These terms with the largest document frequency are the stopwords! The threshold above which you call something a stopword is up to you."
   ]
  },
  {
   "cell_type": "markdown",
   "metadata": {},
   "source": [
    "## tf-idf\n",
    "\n",
    "More interesting than stop-words is the tf-idf score. This tells us which words are most discriminative between documents. Words that occur a lot in one document but doesn't occur in many documents will tell you something special about the document:\n",
    "\n",
    "$$\n",
    "\\text{tf-idf} = tf \\cdot \\log{idf} = tf \\cdot \\log{1 \\over df} = tf \\cdot -\\log{df}\n",
    "$$\n",
    "\n",
    "recall that:\n",
    "\n",
    "$$\n",
    "\\log{x} = -\\log{1 \\over x}\n",
    "$$\n",
    "\n",
    "What are the most discriminative words in the first few documents?"
   ]
  },
  {
   "cell_type": "code",
   "execution_count": 17,
   "metadata": {
    "collapsed": false
   },
   "outputs": [
    {
     "name": "stdout",
     "output_type": "stream",
     "text": [
      "[('a', -0.027442640039679073), ('and', -0.057117663604814899), ('in', -0.057337488753211895), ('that', -0.064212988926916847), ('its', -0.064539869410104242)]\n",
      "[('the', -0.097533738115198984), ('most', -0.59453821488145864), ('comedy', -0.65543605303509112), ('years', -0.8588893828779226), ('inventive', -1.1776761280575496)]\n",
      "[('the', -0.037512976198153455), ('a', -0.052774307768613603), ('that', -0.1234865171671478), ('for', -0.15775847401211712), ('on', -0.1900826453635856)]\n",
      "[('a', -0.040356823587763338), ('and', -0.041998282062363897), ('of', -0.045163533185112785), ('the', -0.057372787126587631), ('this', -0.11288569300130946)]\n",
      "[('a', -0.045737733399465116), ('in', -0.095562481255353146), ('an', -0.1471912957229552), ('thats', -0.27339358885677956), ('entertaining', -0.27513281792906608)]\n",
      "[('the', -0.012191717264399873), ('a', -0.034303300049598841), ('in', -0.035835930470757435), ('of', -0.038389003207345868), ('that', -0.040133118079323037)]\n",
      "[('and', -0.026443362780006897), ('the', -0.072247213418665898), ('film', -0.075774078070343392), ('be', -0.091365851572772105), ('by', -0.094301972857921912)]\n",
      "[('the', -0.018756488099076728), ('and', -0.027460415194622549), ('of', -0.029530002467189131), ('to', -0.043696830361132526), ('a', -0.052774307768613603)]\n",
      "[('the', -0.015731248083096609), ('a', -0.022131161322321832), ('and', -0.023031315969683427), ('in', -0.0462399102848483), ('of', -0.049534197686897895)]\n",
      "[('and', -0.032453217957281191), ('of', -0.034899093824859881), ('the', -0.044333517325090444), ('that', -0.072969305598769157), ('for', -0.093220916461705577)]\n",
      "[('the', -0.044333517325090444), ('of', -0.069798187649719762), ('is', -0.10023634199175738), ('a', -0.12473927290763215), ('movie', -0.18594095512241393)]\n",
      "[('and', -0.033998609288580298), ('of', -0.036560955435567491), ('the', -0.046444637197713794), ('is', -0.052504750567111), ('in', -0.068258915182395102)]\n",
      "[('a', -0.057172166749331399), ('is', -0.091883313492444246), ('first', -0.30879195927997249), ('made', -0.30976096244623241), ('feature', -0.38846609651630337)]\n",
      "[('is', -0.035567734255139712), ('and', -0.046062631939366855), ('the', -0.047193744249289828), ('that', -0.051784668489449071), ('with', -0.060112481608627422)]\n",
      "[('the', -0.048766869057599492), ('one', -0.25246277723776178), ('about', -0.27754352940452115), ('story', -0.31803304391855375), ('big', -0.40547740611241923)]\n",
      "[('is', -0.18376662698488849), ('story', -0.53005507319758949), ('nearly', -0.87921269456688977), ('flawless', -1.0768166388431797), ('toy', -1.1298922606962687)]\n",
      "[('the', -0.017416738949142672), ('a', -0.024502357178284882), ('and', -0.02549895696643522), ('of', -0.027420716576675618), ('its', -0.057624883401878782)]\n",
      "[('to', -0.033415223217336636), ('the', -0.043029590344940728), ('film', -0.0601735325852727), ('be', -0.072555235072495491), ('on', -0.072678658521370954)]\n",
      "[('the', -0.065022492076799318), ('to', -0.075741172625963027), ('an', -0.1471912957229552), ('all', -0.18271319385440674), ('up', -0.21202202927903582)]\n",
      "[('a', -0.052774307768613603), ('and', -0.054920830389245098), ('with', -0.14334514845134233), ('effects', -0.33074375833621267), ('special', -0.34882018843095924)]\n",
      "[('a', -0.085758250123997098), ('but', -0.23583219599325544), ('very', -0.47492120594897014), ('entertaining', -0.51587403361699891), ('effects', -0.53745860729634554)]\n",
      "[('and', -0.054920830389245098), ('of', -0.059060004934378262), ('this', -0.14761975238632777), ('are', -0.20574201653230503), ('at', -0.21167478600886114)]\n",
      "[('mediocre', -3.2781050064317014), ('regrettably', -3.8800914085946694)]\n",
      "[('the', -0.027092705031999714), ('and', -0.039665044170010343), ('of', -0.042654448008162073), ('to', -0.063117643854969194), ('on', -0.13728191054036737)]\n",
      "[('the', -0.033632323487999646), ('to', -0.039176468599636055), ('that', -0.055356024936997282), ('for', -0.070719315936466298), ('be', -0.085064758360856793)]\n",
      "[('is', -0.036753325396977704), ('to', -0.037870586312981513), ('and', -0.047598053004012417), ('of', -0.05118533760979449), ('with', -0.062116230995581667)]\n",
      "[('a', -0.052774307768613603), ('you', -0.21745451109619629), ('if', -0.2410444115754756), ('picture', -0.29153006951055521), ('through', -0.30672475993036158)]\n",
      "[('the', -0.028686393563293815), ('of', -0.045163533185112785), ('with', -0.10961687822749706), ('about', -0.16326089964971829), ('story', -0.18707826112856102)]\n",
      "[('a', -0.028586083374665699), ('is', -0.045941656746222123), ('of', -0.063981672012243113), ('that', -0.066888530132205054), ('it', -0.067888279675004493)]\n",
      "[('the', -0.020319528773999784), ('a', -0.028586083374665699), ('to', -0.047338232891226892), ('it', -0.067888279675004493), ('movie', -0.085222937764439705)]\n",
      "[('of', -0.059060004934378262), ('is', -0.084815366300717773), ('this', -0.14761975238632777), ('best', -0.26230037544846446), ('book', -0.38862558585285611)]\n",
      "[('a', -0.02078987881793869), ('and', -0.021635478638187461), ('is', -0.033412113997252454), ('the', -0.044333517325090444), ('but', -0.057171441452910414)]\n",
      "[('a', -0.052774307768613603), ('be', -0.18975984557421902), ('you', -0.21745451109619629), ('what', -0.24786318314574599), ('go', -0.34107295953851069)]\n",
      "[('the', -0.018061803354666475), ('to', -0.042078429236646127), ('in', -0.053090267364085085), ('with', -0.069018034439535192), ('for', -0.07595778378361194)]\n",
      "[('of', -0.031990836006121556), ('the', -0.040639057547999569), ('to', -0.047338232891226892), ('with', -0.077645288744477084), ('this', -0.079960699209260869)]\n",
      "[('the', -0.016816161743999823), ('and', -0.049239365176564569), ('in', -0.049428869614837834), ('that', -0.055356024936997282), ('an', -0.076133428822218199)]\n",
      "[('a', -0.021439562530999275), ('and', -0.02231158734563082), ('is', -0.034456242559666596), ('but', -0.058958048998313861), ('this', -0.059970524406945655)]\n",
      "[('the', -0.012191717264399873), ('is', -0.027564994047733278), ('to', -0.028402939734736139), ('in', -0.035835930470757435), ('but', -0.047166439198651093)]\n",
      "[('of', -0.023266062549906586), ('to', -0.034427805739074106), ('and', -0.043270957276374922), ('the', -0.044333517325090444), ('but', -0.057171441452910414)]\n",
      "[('the', -0.018756488099076728), ('and', -0.027460415194622549), ('with', -0.071672574225671165), ('more', -0.10322953374796545), ('so', -0.1160269621309129)]\n",
      "[('of', -0.021936573261340495), ('to', -0.032460502553984159), ('in', -0.040955349109437066), ('the', -0.041800173477942418), ('that', -0.045866420662083462)]\n",
      "[('of', -0.020204738530182034), ('and', -0.037577410266325592), ('it', -0.042876808215792317), ('but', -0.049648883367001143), ('this', -0.050501494237427919)]\n",
      "[('the', -0.017416738949142672), ('a', -0.024502357178284882), ('and', -0.05099791393287044), ('of', -0.054841433153351236), ('with', -0.066553104638123209)]\n",
      "[('the', -0.020319528773999784), ('to', -0.047338232891226892), ('it', -0.067888279675004493), ('but', -0.078610731997751815), ('this', -0.079960699209260869)]\n",
      "[('the', -0.034833477898285344), ('it', -0.11637990801429343), ('as', -0.14692543231906149), ('on', -0.17650531355190088), ('more', -0.19171199124622154)]\n",
      "[('the', -0.044333517325090444), ('an', -0.20071540325857526), ('films', -0.31542939782190438), ('among', -0.49767316750106133), ('crime', -0.50572347635028359)]\n",
      "[('to', -0.087393660722265051), ('he', -0.26602865510555834), ('great', -0.29704483323794878), ('before', -0.35088536151066602), ('self', -0.3540909535414789)]\n",
      "[('a', -0.034303300049598841), ('and', -0.035698539753009316), ('of', -0.038389003207345868), ('the', -0.048766869057599492), ('is', -0.055129988095466556)]\n",
      "[('the', -0.021202986546782387), ('and', -0.031042208480877662), ('of', -0.03338174191943119), ('that', -0.069796727094474834), ('its', -0.070152031967504608)]\n",
      "[('of', -0.023993127004591167), ('it', -0.050916209756253376), ('with', -0.058233966558357816), ('movie', -0.063917203323329785), ('a', -0.064318687592997831)]\n",
      "[('the', -0.027092705031999714), ('and', -0.039665044170010343), ('in', -0.079635401046127624), ('its', -0.089638707514033661), ('all', -0.15226099487867226)]\n",
      "[('and', -0.05099791393287044), ('its', -0.11524976680375756), ('this', -0.13707548435873293), ('an', -0.15770495970316625), ('not', -0.18437230059099061)]\n",
      "[('a', -0.2286886669973256), ('disappointment', -2.1388160234960814), ('colossal', -2.8177766659164281)]\n",
      "[('of', -0.076778006414691735), ('but', -0.18866575679460437), ('little', -0.37650449050506868), ('off', -0.41182202828631542), ('gives', -0.47728187933058647)]\n",
      "[('the', -0.013546352515999857), ('a', -0.019057388916443797), ('and', -0.019832522085005171), ('is', -0.030627771164148082), ('that', -0.044592353421470034)]\n",
      "[('the', -0.025666773188210257), ('a', -0.036108736894314569), ('is', -0.058031566416280579), ('and', -0.075154820532651184), ('this', -0.10100298847485584)]\n",
      "[('and', -0.037577410266325592), ('of', -0.040409477060364067), ('is', -0.058031566416280579), ('the', -0.07700031956463077), ('that', -0.084490774903837954)]\n",
      "[('the', -0.023222318598856897), ('a', -0.03266980957104651), ('of', -0.036560955435567491), ('is', -0.052504750567111), ('its', -0.076833177869171709)]\n",
      "[('a', -0.022131161322321832), ('and', -0.023031315969683427), ('is', -0.035567734255139712), ('the', -0.047193744249289828), ('with', -0.060112481608627422)]\n",
      "[('his', -0.34952167055414235), ('seems', -0.51207764638246156), ('now', -0.59979401191387871), ('major', -0.69082382446028057), ('strength', -0.76884311309440478)]\n",
      "[('that', -0.053510824105764042), ('a', -0.068606600099197682), ('and', -0.071397079506018632), ('on', -0.082369146324220419), ('about', -0.092514509801507036)]\n",
      "[('the', -0.025666773188210257), ('a', -0.036108736894314569), ('of', -0.040409477060364067), ('to', -0.0597956625994445), ('an', -0.11620365451812251)]\n",
      "[('is', -0.023459569402326193), ('and', -0.030381735960007924), ('in', -0.030498664230431856), ('but', -0.040141650381830714), ('story', -0.067666605089053991)]\n",
      "[('a', -0.2286886669973256), ('joyless', -2.4515725696937247), ('lump', -2.7218826417658346)]\n",
      "[('the', -0.021202986546782387), ('of', -0.03338174191943119), ('to', -0.049396416929975893), ('and', -0.062084416961755325), ('this', -0.083437251348793956)]\n",
      "[('a', -0.040356823587763338), ('and', -0.041998282062363897), ('of', -0.045163533185112785), ('to', -0.066830446434673271), ('that', -0.094430866068995367)]\n",
      "[('the', -0.036123606709332949), ('is', -0.040837028218864112), ('to', -0.042078429236646127), ('of', -0.056872597344216097), ('its', -0.059759138342689103)]\n",
      "[('and', -0.019832522085005171), ('the', -0.027092705031999714), ('in', -0.039817700523063812), ('its', -0.04481935375701683), ('by', -0.070726479643441434)]\n",
      "[('a', -0.054885280079358147), ('and', -0.057117663604814899), ('in', -0.057337488753211895), ('with', -0.074539477194698001), ('for', -0.082034406486300906)]\n",
      "[('the', -0.018061803354666475), ('a', -0.025409851888591732), ('of', -0.028436298672108049), ('to', -0.042078429236646127), ('and', -0.052886725560013795)]\n",
      "[('is', -0.039378562925333253), ('the', -0.052250216847428019), ('its', -0.057624883401878782), ('as', -0.073462716159530747), ('like', -0.10523729876675686)]\n",
      "[('and', -0.024619682588282284), ('of', -0.026475174625755771), ('the', -0.033632323487999646), ('to', -0.039176468599636055), ('in', -0.049428869614837834)]\n",
      "[('the', -0.047193744249289828), ('with', -0.060112481608627422), ('this', -0.061905057452330998), ('movie', -0.065979048591824296), ('is', -0.071135468510279423)]\n",
      "[('a', -0.022868866699732558), ('to', -0.037870586312981513), ('the', -0.048766869057599492), ('of', -0.05118533760979449), ('but', -0.062888585598201457)]\n",
      "[('the', -0.016816161743999823), ('to', -0.039176468599636055), ('a', -0.047314896620136326), ('but', -0.065057157515380812), ('for', -0.070719315936466298)]\n",
      "[('a', -0.022868866699732558), ('of', -0.025592668804897245), ('the', -0.032511246038399659), ('is', -0.036753325396977704), ('in', -0.047781240627676573)]\n",
      "[('are', -0.53492924298399314), ('you', -0.56538172885011029), ('richard', -1.199318844985596), ('missed', -1.332314105704246), ('kiel', -1.9103884572834788)]\n",
      "[('a', -0.016733317097365287), ('of', -0.018726343027973595), ('and', -0.034827843661472499), ('the', -0.035683074920194742), ('its', -0.039353578908600147)]\n",
      "[('and', -0.037577410266325592), ('the', -0.051333546376420514), ('to', -0.0597956625994445), ('of', -0.080818954120728134), ('even', -0.17429823374982231)]\n",
      "[('the', -0.16255623019199827), ('suffers', -2.1388160234960814), ('blahs', -3.1839807621391309)]\n",
      "[('with', -0.26621241855249284), ('fun', -0.56061731038953677), ('spectacular', -0.83405288853044079), ('brain', -0.90472378022131328), ('numbing', -0.98755499382887646)]\n",
      "[('a', -0.029828956564868555), ('the', -0.042405973093564774), ('that', -0.069796727094474834), ('its', -0.070152031967504608), ('but', -0.082028589910697544)]\n",
      "[('and', -0.032453217957281191), ('of', -0.034899093824859881), ('to', -0.051641708608611163), ('a', -0.062369636453816074), ('its', -0.073340760693300269)]\n",
      "[('and', -0.14279415901203726), ('its', -0.16134967352526061), ('thats', -0.41009038328516934), ('where', -0.45020862791678573), ('stunts', -0.60554347249509144)]\n",
      "[('and', -0.079330088340020685), ('with', -0.20705410331860555), ('some', -0.39259434132457327), ('real', -0.45855469654844344), ('directed', -0.5171224984962759)]\n",
      "[('in', -0.11026440144848441), ('the', -0.11253892859446037), ('who', -0.24772618742490024), ('best', -0.26230037544846446), ('series', -0.36335604223962253)]\n",
      "[('a', -0.045737733399465116), ('and', -0.047598053004012417), ('in', -0.047781240627676573), ('the', -0.048766869057599492), ('with', -0.062116230995581667)]\n",
      "[('it', -0.10183241951250675), ('this', -0.11994104881389131), ('movie', -0.12783440664665957), ('so', -0.18854381346273347), ('much', -0.20458880389072184)]\n",
      "[('and', -0.019296507974599628), ('is', -0.029799993565117058), ('to', -0.030705880794309338), ('a', -0.037084648702269019), ('in', -0.038741546454872905)]\n",
      "[('and', -0.10199582786574088), ('not', -0.36874460118198121), ('if', -0.44765390721159748), ('entertaining', -0.58957032413371302), ('inspired', -0.82724888153197584)]\n",
      "[('the', -0.032511246038399659), ('a', -0.045737733399465116), ('of', -0.05118533760979449), ('that', -0.10702164821152808), ('its', -0.1075664490168404)]\n",
      "[('the', -0.044333517325090444), ('and', -0.12981287182912477), ('movies', -0.30653869388771104), ('best', -0.30999135280273071), ('as', -0.37399200953942929)]\n",
      "[('the', -0.057372787126587631), ('is', -0.064858809524078298), ('from', -0.16193449555050576), ('director', -0.20615118278653624), ('american', -0.24460674941559013)]\n",
      "[('it', -0.11637990801429343), ('but', -0.13476125485328883), ('this', -0.13707548435873293), ('movie', -0.14609646473903951), ('be', -0.17620557089034619)]\n",
      "[('the', -0.024383434528799746), ('and', -0.035698539753009316), ('it', -0.081465935610005411), ('but', -0.094332878397302186), ('will', -0.18329191274836193)]\n",
      "[('the', -0.022166758662545222), ('and', -0.032453217957281191), ('to', -0.051641708608611163), ('has', -0.11435426330303899), ('from', -0.12513120110720902)]\n",
      "[('great', -1.9307914160466668), ('entertainment', -2.1794927177635919)]\n",
      "[('a', -0.1715165002479942), ('well', -0.88272973426696688), ('modulated', -2.0414119813243761), ('charmer', -2.0414119813243761)]\n",
      "[('the', -0.028686393563293815), ('a', -0.040356823587763338), ('and', -0.041998282062363897), ('its', -0.094911572661917992), ('movie', -0.1203147356674443)]\n",
      "[('frothy', -7.9425043739832937)]\n"
     ]
    }
   ],
   "source": [
    "# calculate the term frequency of all the unique tokens in all of the bags of words.\n",
    "\n",
    "for doc in word_bag_list[:100]:\n",
    "    tf = Counter()  # initialize this dict-like thing.\n",
    "    tfidf = Counter()\n",
    "    \n",
    "    # FILL IN CODE\n",
    "    # calculate term frequencies\n",
    "    # this is similar to the document frequencies.\n",
    "   \n",
    "    for token in doc:\n",
    "        tf[token] += 1\n",
    "    total = float(sum(tf.values()))\n",
    "    \n",
    "    # calculate tf-idf scores\n",
    "    for token in tf:\n",
    "        tfidf[token] = (tf[token] / total) * (np.log(df[token])) # fill this in. you can use np.log().\n",
    "\n",
    "    # this prints most significant words in the document\n",
    "    print tfidf.most_common(5)"
   ]
  },
  {
   "cell_type": "markdown",
   "metadata": {},
   "source": [
    "# Sci-Kit Learn\n",
    "\n",
    "Scikit-Learn comes with utilities to do these calculations for us. "
   ]
  },
  {
   "cell_type": "code",
   "execution_count": 18,
   "metadata": {
    "collapsed": false
   },
   "outputs": [],
   "source": [
    "from sklearn.feature_extraction.text import TfidfVectorizer"
   ]
  },
  {
   "cell_type": "code",
   "execution_count": 19,
   "metadata": {
    "collapsed": false
   },
   "outputs": [
    {
     "name": "stdout",
     "output_type": "stream",
     "text": [
      "[[ 0.          0.          0.          0.          0.          0.          0.\n",
      "   0.          0.          0.        ]\n",
      " [ 0.          0.          0.          0.          0.          0.          0.\n",
      "   0.          0.          0.        ]\n",
      " [ 0.          0.          0.          0.          0.          0.          0.\n",
      "   0.          0.          0.        ]\n",
      " [ 0.          0.          0.          0.          0.          0.          0.\n",
      "   0.          0.          0.        ]\n",
      " [ 0.          0.          0.          0.          0.33171187  0.          0.\n",
      "   0.          0.          0.        ]\n",
      " [ 0.          0.          0.          0.          0.          0.          0.\n",
      "   0.          0.          0.        ]\n",
      " [ 0.          0.          0.          0.          0.          0.          0.\n",
      "   0.          0.          0.        ]\n",
      " [ 0.          0.          0.          0.          0.          0.          0.\n",
      "   0.          0.          0.        ]\n",
      " [ 0.          0.          0.          0.          0.          0.          0.\n",
      "   0.          0.          0.        ]\n",
      " [ 0.          0.          0.          0.          0.          0.          0.\n",
      "   0.          0.          0.        ]]\n"
     ]
    }
   ],
   "source": [
    "tfidf_vec = TfidfVectorizer(stop_words='english')\n",
    "output = tfidf_vec.fit_transform(documents)\n",
    "print output.toarray()[20:30, :10]"
   ]
  },
  {
   "cell_type": "code",
   "execution_count": 20,
   "metadata": {
    "collapsed": false
   },
   "outputs": [
    {
     "name": "stdout",
     "output_type": "stream",
     "text": [
      "frozenset(['all', 'six', 'less', 'being', 'indeed', 'over', 'move', 'anyway', 'four', 'not', 'own', 'through', 'yourselves', 'fify', 'where', 'mill', 'only', 'find', 'before', 'one', 'whose', 'system', 'how', 'somewhere', 'with', 'thick', 'show', 'had', 'enough', 'should', 'to', 'must', 'whom', 'seeming', 'under', 'ours', 'has', 'might', 'thereafter', 'latterly', 'do', 'them', 'his', 'around', 'than', 'get', 'very', 'de', 'none', 'cannot', 'every', 'whether', 'they', 'front', 'during', 'thus', 'now', 'him', 'nor', 'name', 'several', 'hereafter', 'always', 'who', 'cry', 'whither', 'this', 'someone', 'either', 'each', 'become', 'thereupon', 'sometime', 'side', 'two', 'therein', 'twelve', 'because', 'often', 'ten', 'our', 'eg', 'some', 'back', 'up', 'go', 'namely', 'towards', 'are', 'further', 'beyond', 'ourselves', 'yet', 'out', 'even', 'will', 'what', 'still', 'for', 'bottom', 'mine', 'since', 'please', 'forty', 'per', 'its', 'everything', 'behind', 'un', 'above', 'between', 'it', 'neither', 'seemed', 'ever', 'across', 'she', 'somehow', 'be', 'we', 'full', 'never', 'sixty', 'however', 'here', 'otherwise', 'were', 'whereupon', 'nowhere', 'although', 'found', 'alone', 're', 'along', 'fifteen', 'by', 'both', 'about', 'last', 'would', 'anything', 'via', 'many', 'could', 'thence', 'put', 'against', 'keep', 'etc', 'amount', 'became', 'ltd', 'hence', 'onto', 'or', 'con', 'among', 'already', 'co', 'afterwards', 'formerly', 'within', 'seems', 'into', 'others', 'while', 'whatever', 'except', 'down', 'hers', 'everyone', 'done', 'least', 'another', 'whoever', 'moreover', 'couldnt', 'throughout', 'anyhow', 'yourself', 'three', 'from', 'her', 'few', 'together', 'top', 'there', 'due', 'been', 'next', 'anyone', 'eleven', 'much', 'call', 'therefore', 'interest', 'then', 'thru', 'themselves', 'hundred', 'was', 'sincere', 'empty', 'more', 'himself', 'elsewhere', 'mostly', 'on', 'fire', 'am', 'becoming', 'hereby', 'amongst', 'else', 'part', 'everywhere', 'too', 'herself', 'former', 'those', 'he', 'me', 'myself', 'made', 'twenty', 'these', 'bill', 'cant', 'us', 'until', 'besides', 'nevertheless', 'below', 'anywhere', 'nine', 'can', 'of', 'your', 'toward', 'my', 'something', 'and', 'whereafter', 'whenever', 'give', 'almost', 'wherever', 'is', 'describe', 'beforehand', 'herein', 'an', 'as', 'itself', 'at', 'have', 'in', 'seem', 'whence', 'ie', 'any', 'fill', 'again', 'hasnt', 'inc', 'thereby', 'thin', 'no', 'perhaps', 'latter', 'meanwhile', 'when', 'detail', 'same', 'wherein', 'beside', 'also', 'that', 'other', 'take', 'which', 'becomes', 'you', 'if', 'nobody', 'see', 'though', 'may', 'after', 'upon', 'most', 'hereupon', 'eight', 'but', 'serious', 'nothing', 'such', 'why', 'a', 'off', 'whereby', 'third', 'i', 'whole', 'noone', 'sometimes', 'well', 'amoungst', 'yours', 'their', 'rather', 'without', 'so', 'five', 'the', 'first', 'whereas', 'once'])\n"
     ]
    }
   ],
   "source": [
    "print tfidf_vec.get_stop_words()"
   ]
  },
  {
   "cell_type": "code",
   "execution_count": null,
   "metadata": {
    "collapsed": true
   },
   "outputs": [],
   "source": []
  }
 ],
 "metadata": {
  "kernelspec": {
   "display_name": "Python 2",
   "language": "python",
   "name": "python2"
  },
  "language_info": {
   "codemirror_mode": {
    "name": "ipython",
    "version": 2
   },
   "file_extension": ".py",
   "mimetype": "text/x-python",
   "name": "python",
   "nbconvert_exporter": "python",
   "pygments_lexer": "ipython2",
   "version": "2.7.10"
  }
 },
 "nbformat": 4,
 "nbformat_minor": 0
}
