{
 "cells": [
  {
   "cell_type": "markdown",
   "metadata": {},
   "source": [
    "# Linear Algebra"
   ]
  },
  {
   "cell_type": "markdown",
   "metadata": {},
   "source": [
    "#### Importing Packages\n",
    "Python has an extensive collection of third-party libraries, or ***packages***, with additional functions, data-structures, etc.  Many (most?) packages of interest are hosted on the Python Package Index ***pypi***, and can be installed into your environment using ***pip***.  The Anaconda distribution in the pre-work includes a number of these that are useful in data science, so you should have most of them installed already.  \n",
    "\n",
    "ref:  https://pypi.python.org/pypi"
   ]
  },
  {
   "cell_type": "markdown",
   "metadata": {},
   "source": [
    "A note on namespaces when importing - there are a few different ways to import:\n",
    "\n",
    "    1. import numpy\n",
    "\n",
    "    - all submodules of numpy are accessible in the numpy namespace\n",
    "    - e.g. numpy.array([1,2,3])\n",
    "\n",
    "\n",
    "    2. import numpy as np\n",
    "\n",
    "    - same as 1 except an alias 'np' is created for the namespace instead\n",
    "    - e.g. np.array([1,2,3])\n",
    "\n",
    "\n",
    "    3. from numpy import *\n",
    "\n",
    "    - adds all submodules to global namespace\n",
    "    - e.g. array([1,2,3])\n",
    "    - Note: This can be dangerous because if different modules have submodules with the same name than whatever is imported last will overrite what came before it - i.e. naming collision -> overwriting!.\n",
    "    \n",
    "    4. from numpy import array\n",
    "    \n",
    "    - will import only the indicated submodules into the global namespace\n",
    "    - e.g. array([1,2,3])\n",
    "    - Note: can be ok since you are being explicit\n",
    "    \n",
    "    We will generally use 2 and 4 (sparingly)"
   ]
  },
  {
   "cell_type": "markdown",
   "metadata": {
    "collapsed": true
   },
   "source": [
    "### NumPy\n",
    "\n",
    "As we've seen in lecture, linear algebra is the branch of mathematics describing navigation between different vector spaces. This core concept is very important as various data science techniques rely upon it (e.g. Linear Regression, Support Vector Machines, Recommender Systems, Neural Networks).\n",
    "\n",
    "NumPy is a package designed to be used in scientific computing, and specifically around building and manipulating N-dimensional array objects."
   ]
  },
  {
   "cell_type": "code",
   "execution_count": 1,
   "metadata": {
    "collapsed": false
   },
   "outputs": [],
   "source": [
    "# import should always be at the top of the page\n",
    "import numpy\n",
    "\n",
    "import numpy as np\n",
    "\n",
    "from numpy import absolute\n",
    "\n",
    "# The next one is dangerous to do, and not recommended \n",
    "# except in cases where you know why you're using it\n",
    "# from numpy import *"
   ]
  },
  {
   "cell_type": "markdown",
   "metadata": {},
   "source": [
    "Now we can do the same thing three ways"
   ]
  },
  {
   "cell_type": "code",
   "execution_count": 2,
   "metadata": {
    "collapsed": false
   },
   "outputs": [
    {
     "name": "stdout",
     "output_type": "stream",
     "text": [
      "10\n",
      "10\n",
      "10\n"
     ]
    }
   ],
   "source": [
    "print numpy.absolute(-10)\n",
    "print np.absolute(-10)\n",
    "print absolute(-10)"
   ]
  },
  {
   "cell_type": "markdown",
   "metadata": {},
   "source": [
    "We can create the Linear Algebra Objects we saw in lecture"
   ]
  },
  {
   "cell_type": "code",
   "execution_count": 3,
   "metadata": {
    "collapsed": false
   },
   "outputs": [],
   "source": [
    "# we have a vector here\n",
    "vector = np.array([1, 2, 1])"
   ]
  },
  {
   "cell_type": "code",
   "execution_count": 4,
   "metadata": {
    "collapsed": false
   },
   "outputs": [
    {
     "data": {
      "text/plain": [
       "array([[1, 2, 3],\n",
       "       [2, 4, 9]])"
      ]
     },
     "execution_count": 4,
     "metadata": {},
     "output_type": "execute_result"
    }
   ],
   "source": [
    "# we have a matrix here\n",
    "data = np.array([[1, 2, 3],[2, 4, 9]])\n",
    "data"
   ]
  },
  {
   "cell_type": "code",
   "execution_count": 5,
   "metadata": {
    "collapsed": false
   },
   "outputs": [
    {
     "data": {
      "text/plain": [
       "array([1, 2, 3])"
      ]
     },
     "execution_count": 5,
     "metadata": {},
     "output_type": "execute_result"
    }
   ],
   "source": [
    "data[0]  # first row"
   ]
  },
  {
   "cell_type": "code",
   "execution_count": 15,
   "metadata": {
    "collapsed": false
   },
   "outputs": [
    {
     "data": {
      "text/plain": [
       "array([2, 4])"
      ]
     },
     "execution_count": 15,
     "metadata": {},
     "output_type": "execute_result"
    }
   ],
   "source": [
    "# give me everything till row 2 (not including 2), and column 1\n",
    "# note the index starts at 0\n",
    "data[ : 2, 1]  # all rows, second column"
   ]
  },
  {
   "cell_type": "markdown",
   "metadata": {},
   "source": [
    "Numpy lets us perform matrix operations"
   ]
  },
  {
   "cell_type": "code",
   "execution_count": 16,
   "metadata": {
    "collapsed": false
   },
   "outputs": [
    {
     "data": {
      "text/plain": [
       "array([ 8, 19])"
      ]
     },
     "execution_count": 16,
     "metadata": {},
     "output_type": "execute_result"
    }
   ],
   "source": [
    "np.dot(data, vector)"
   ]
  },
  {
   "cell_type": "markdown",
   "metadata": {},
   "source": [
    "We can transpose an array"
   ]
  },
  {
   "cell_type": "code",
   "execution_count": 17,
   "metadata": {
    "collapsed": false
   },
   "outputs": [
    {
     "name": "stdout",
     "output_type": "stream",
     "text": [
      "[[1 2 3]\n",
      " [2 4 9]]\n",
      "[[1 2]\n",
      " [2 4]\n",
      " [3 9]]\n"
     ]
    }
   ],
   "source": [
    "# Transpose a matrix is making its rows as columns and vice versa\n",
    "print data\n",
    "print data.T"
   ]
  },
  {
   "cell_type": "markdown",
   "metadata": {},
   "source": [
    "#### Creating a square matrix array"
   ]
  },
  {
   "cell_type": "code",
   "execution_count": 18,
   "metadata": {
    "collapsed": false
   },
   "outputs": [
    {
     "data": {
      "text/plain": [
       "array([[ 0,  1,  2,  3,  4],\n",
       "       [ 5,  6,  7,  8,  9],\n",
       "       [10, 11, 12, 13, 14],\n",
       "       [15, 16, 17, 18, 19],\n",
       "       [20, 21, 22, 23, 24]])"
      ]
     },
     "execution_count": 18,
     "metadata": {},
     "output_type": "execute_result"
    }
   ],
   "source": [
    "# arrange just gives me an array of numbers till 25\n",
    "# reshape, re shapes ths array into a matrix specified\n",
    "a = np.arange(25).reshape(5,5)\n",
    "# arange(n) is a function that creates a 1 row array of integers of length n \n",
    "# reshape(M,N) is a method converts a list to a matrix of size MxN\n",
    "a"
   ]
  },
  {
   "cell_type": "code",
   "execution_count": 19,
   "metadata": {
    "collapsed": false
   },
   "outputs": [
    {
     "data": {
      "text/plain": [
       "array([[  0,  10,  20,  30,  40],\n",
       "       [ 50,  60,  70,  80,  90],\n",
       "       [100, 110, 120, 130, 140],\n",
       "       [150, 160, 170, 180, 190],\n",
       "       [200, 210, 220, 230, 240]])"
      ]
     },
     "execution_count": 19,
     "metadata": {},
     "output_type": "execute_result"
    }
   ],
   "source": [
    "biga = a*10\n",
    "biga"
   ]
  },
  {
   "cell_type": "code",
   "execution_count": 20,
   "metadata": {
    "collapsed": false
   },
   "outputs": [
    {
     "name": "stdout",
     "output_type": "stream",
     "text": [
      "120.0\n",
      "[ 100.  110.  120.  130.  140.]\n"
     ]
    },
    {
     "data": {
      "text/plain": [
       "array([  20.,   70.,  120.,  170.,  220.])"
      ]
     },
     "execution_count": 20,
     "metadata": {},
     "output_type": "execute_result"
    }
   ],
   "source": [
    "# axis = none > take all the data\n",
    "# axis = 0 > first row\n",
    "# axis = 1 >\n",
    "print biga.mean()\n",
    "print biga.mean(0) #Average per column\n",
    "# the 0 above is telling it what axis to work off. So it is axis=0\n",
    "biga.mean(1) #average per row\n",
    "# type(biga.mean(1))"
   ]
  },
  {
   "cell_type": "markdown",
   "metadata": {},
   "source": [
    "Creating a matrix with numpy"
   ]
  },
  {
   "cell_type": "code",
   "execution_count": 21,
   "metadata": {
    "collapsed": false
   },
   "outputs": [
    {
     "data": {
      "text/plain": [
       "matrix([[-20, -10,   0,  10,  20],\n",
       "        [ 30,  40,  50,  60,  70],\n",
       "        [ 80,  90, 100, 110, 120],\n",
       "        [130, 140, 150, 160, 170],\n",
       "        [180, 190, 200, 210, 220]])"
      ]
     },
     "execution_count": 21,
     "metadata": {},
     "output_type": "execute_result"
    }
   ],
   "source": [
    "bigm = np.matrix(biga-20)\n",
    "bigm"
   ]
  },
  {
   "cell_type": "markdown",
   "metadata": {},
   "source": [
    "Creating the Inverse of a Matrix"
   ]
  },
  {
   "cell_type": "code",
   "execution_count": 22,
   "metadata": {
    "collapsed": false
   },
   "outputs": [
    {
     "data": {
      "text/plain": [
       "array([[ -2.81474977e+13,  -1.52777778e-03,   5.62949953e+13,\n",
       "         -2.22222222e-02,  -2.81474977e+13],\n",
       "       [  3.51843721e+13,   2.25000000e-02,  -5.27765581e+13,\n",
       "         -3.51843721e+13,   5.27765581e+13],\n",
       "       [ -4.22212465e+13,   9.38249922e+13,  -7.97512434e+13,\n",
       "          4.69124961e+13,  -1.87649984e+13],\n",
       "       [  9.14793674e+13,  -1.87649984e+14,   9.26521798e+13,\n",
       "          1.17281240e+13,  -8.20968682e+12],\n",
       "       [ -5.62949953e+13,   9.38249922e+13,  -1.64193736e+13,\n",
       "         -2.34562481e+13,   2.34562481e+12]])"
      ]
     },
     "execution_count": 22,
     "metadata": {},
     "output_type": "execute_result"
    }
   ],
   "source": [
    "np.linalg.inv(biga-20)"
   ]
  },
  {
   "cell_type": "markdown",
   "metadata": {},
   "source": [
    "#### Slices"
   ]
  },
  {
   "cell_type": "code",
   "execution_count": 23,
   "metadata": {
    "collapsed": false
   },
   "outputs": [
    {
     "name": "stdout",
     "output_type": "stream",
     "text": [
      "[[-20 -10   0  10  20]\n",
      " [ 30  40  50  60  70]\n",
      " [ 80  90 100 110 120]\n",
      " [130 140 150 160 170]\n",
      " [180 190 200 210 220]]\n"
     ]
    },
    {
     "data": {
      "text/plain": [
       "array([-20, -10,   0,  10,  20])"
      ]
     },
     "execution_count": 23,
     "metadata": {},
     "output_type": "execute_result"
    }
   ],
   "source": [
    "# Converting matrix to an array\n",
    "bigm = np.array(bigm)\n",
    "print bigm\n",
    "bigm[0]"
   ]
  },
  {
   "cell_type": "code",
   "execution_count": 25,
   "metadata": {
    "collapsed": false
   },
   "outputs": [
    {
     "name": "stdout",
     "output_type": "stream",
     "text": [
      "[[  0  10  20  30  40]\n",
      " [ 50  60  70  80  90]\n",
      " [100 110 120 130 140]\n",
      " [150 160 170 180 190]\n",
      " [200 210 220 230 240]]\n"
     ]
    },
    {
     "data": {
      "text/plain": [
       "array([ 0, 10, 20, 30, 40])"
      ]
     },
     "execution_count": 25,
     "metadata": {},
     "output_type": "execute_result"
    }
   ],
   "source": [
    "#Same thing, but demonstrating the full slice with a colon\n",
    "print biga\n",
    "biga[0,:]"
   ]
  },
  {
   "cell_type": "code",
   "execution_count": 26,
   "metadata": {
    "collapsed": false
   },
   "outputs": [
    {
     "name": "stdout",
     "output_type": "stream",
     "text": [
      "[[  0  10  20  30  40]\n",
      " [ 50  60  70  80  90]\n",
      " [100 110 120 130 140]\n",
      " [150 160 170 180 190]\n",
      " [200 210 220 230 240]]\n"
     ]
    },
    {
     "data": {
      "text/plain": [
       "array([ 20,  70, 120, 170, 220])"
      ]
     },
     "execution_count": 26,
     "metadata": {},
     "output_type": "execute_result"
    }
   ],
   "source": [
    "print biga\n",
    "biga[: , 2]"
   ]
  },
  {
   "cell_type": "markdown",
   "metadata": {},
   "source": [
    "#### Describing your Arrays"
   ]
  },
  {
   "cell_type": "code",
   "execution_count": 27,
   "metadata": {
    "collapsed": false
   },
   "outputs": [
    {
     "data": {
      "text/plain": [
       "array([[[ 0,  1],\n",
       "        [ 2,  3],\n",
       "        [ 4,  5]],\n",
       "\n",
       "       [[ 6,  7],\n",
       "        [ 8,  9],\n",
       "        [10, 11]],\n",
       "\n",
       "       [[12, 13],\n",
       "        [14, 15],\n",
       "        [16, 17]],\n",
       "\n",
       "       [[18, 19],\n",
       "        [20, 21],\n",
       "        [22, 23]],\n",
       "\n",
       "       [[24, 25],\n",
       "        [26, 27],\n",
       "        [28, 29]]])"
      ]
     },
     "execution_count": 27,
     "metadata": {},
     "output_type": "execute_result"
    }
   ],
   "source": [
    "compa = np.arange(30).reshape(5,3,2)\n",
    "compa"
   ]
  },
  {
   "cell_type": "code",
   "execution_count": 28,
   "metadata": {
    "collapsed": false
   },
   "outputs": [
    {
     "name": "stdout",
     "output_type": "stream",
     "text": [
      "(5, 3, 2)\n",
      "3\n",
      "int64\n"
     ]
    }
   ],
   "source": [
    "# lets describe it\n",
    "\n",
    "# shape of the matrix\n",
    "print compa.shape\n",
    "# number of dimensions\n",
    "print compa.ndim\n",
    "# get the data type\n",
    "print compa.dtype"
   ]
  },
  {
   "cell_type": "code",
   "execution_count": 29,
   "metadata": {
    "collapsed": false
   },
   "outputs": [
    {
     "data": {
      "text/plain": [
       "array([19, 21, 23])"
      ]
     },
     "execution_count": 29,
     "metadata": {},
     "output_type": "execute_result"
    }
   ],
   "source": [
    "# ?????\n",
    "compa[3,:,1]"
   ]
  },
  {
   "cell_type": "code",
   "execution_count": 32,
   "metadata": {
    "collapsed": false
   },
   "outputs": [
    {
     "data": {
      "text/plain": [
       "5"
      ]
     },
     "execution_count": 32,
     "metadata": {},
     "output_type": "execute_result"
    }
   ],
   "source": [
    "# We can assign values using list-like index\n",
    "# But be careful on types\n",
    "# our compa is of type int, so the result is of type integer\n",
    "compa[0,0,0] = 5.9\n",
    "compa[0,0,0]"
   ]
  },
  {
   "cell_type": "markdown",
   "metadata": {},
   "source": [
    "We can change the datatype when needed"
   ]
  },
  {
   "cell_type": "code",
   "execution_count": 33,
   "metadata": {
    "collapsed": false
   },
   "outputs": [
    {
     "data": {
      "text/plain": [
       "5.75"
      ]
     },
     "execution_count": 33,
     "metadata": {},
     "output_type": "execute_result"
    }
   ],
   "source": [
    "# reassigning the array to be a type float\n",
    "compa = compa.astype(float)\n",
    "compa[0,0,0] = 5.75\n",
    "compa[0,0,0]"
   ]
  },
  {
   "cell_type": "markdown",
   "metadata": {},
   "source": [
    "#### Stacking arrays\n",
    "\n",
    "You must stack using dimensions of the saem size"
   ]
  },
  {
   "cell_type": "code",
   "execution_count": 34,
   "metadata": {
    "collapsed": false
   },
   "outputs": [
    {
     "name": "stdout",
     "output_type": "stream",
     "text": [
      "H Stack\n",
      "[1 2 3 2 3 4]\n",
      "V Stack\n",
      "[[1 2 3]\n",
      " [2 3 4]]\n"
     ]
    }
   ],
   "source": [
    "# both the matrixes should be of the same size\n",
    "a = np.array((1,2,3))\n",
    "b = np.array((2,3,4))\n",
    "print 'H Stack'\n",
    "# hstack stacks it horizontally\n",
    "print np.hstack((a,b))\n",
    "print 'V Stack'\n",
    "# vstack stacks it vertically\n",
    "print np.vstack((a,b))"
   ]
  },
  {
   "cell_type": "code",
   "execution_count": 36,
   "metadata": {
    "collapsed": false
   },
   "outputs": [
    {
     "name": "stdout",
     "output_type": "stream",
     "text": [
      "H Stack\n",
      "[[1 2]\n",
      " [2 3]\n",
      " [3 4]]\n",
      "V Stack\n",
      "[[1]\n",
      " [2]\n",
      " [3]\n",
      " [2]\n",
      " [3]\n",
      " [4]]\n"
     ]
    }
   ],
   "source": [
    "# ????? what do the brackets do? \n",
    "a = np.array([[1],[2],[3]])\n",
    "b = np.array([[2],[3],[4]])\n",
    "print 'H Stack'\n",
    "print np.hstack((a,b))\n",
    "print 'V Stack'\n",
    "print np.vstack((a,b))"
   ]
  },
  {
   "cell_type": "markdown",
   "metadata": {},
   "source": [
    "### Using Random Numbers\n",
    "\n",
    "Random numbers are very helpful and are necessary at times for testing data pipelines and running statistical analyses. Functions for creating random values are under numpy.random."
   ]
  },
  {
   "cell_type": "code",
   "execution_count": 37,
   "metadata": {
    "collapsed": false
   },
   "outputs": [
    {
     "data": {
      "text/plain": [
       "array([[ 0.73066195,  0.79614213,  0.99213169,  0.48559635,  0.88139695],\n",
       "       [ 0.63938298,  0.74557455,  0.86621181,  0.02188044,  0.59477655],\n",
       "       [ 0.37800489,  0.61997048,  0.28811948,  0.03968556,  0.16886658],\n",
       "       [ 0.70663519,  0.02357847,  0.39673412,  0.98563536,  0.39808045],\n",
       "       [ 0.37018351,  0.67772518,  0.7781151 ,  0.36079116,  0.58830422]])"
      ]
     },
     "execution_count": 37,
     "metadata": {},
     "output_type": "execute_result"
    }
   ],
   "source": [
    "#Create a randomized array\n",
    "# between the numbers 0 and 1 \n",
    "rm = np.random.rand(5,5)\n",
    "rm"
   ]
  },
  {
   "cell_type": "code",
   "execution_count": 38,
   "metadata": {
    "collapsed": false
   },
   "outputs": [
    {
     "data": {
      "text/plain": [
       "(5, 5)"
      ]
     },
     "execution_count": 38,
     "metadata": {},
     "output_type": "execute_result"
    }
   ],
   "source": [
    "rm.shape"
   ]
  },
  {
   "cell_type": "markdown",
   "metadata": {},
   "source": [
    "You can shuffle values randomly as well"
   ]
  },
  {
   "cell_type": "code",
   "execution_count": 41,
   "metadata": {
    "collapsed": false
   },
   "outputs": [
    {
     "data": {
      "text/plain": [
       "array([[ 0.63938298,  0.74557455,  0.86621181,  0.02188044,  0.59477655],\n",
       "       [ 0.70663519,  0.02357847,  0.39673412,  0.98563536,  0.39808045],\n",
       "       [ 0.37018351,  0.67772518,  0.7781151 ,  0.36079116,  0.58830422],\n",
       "       [ 0.73066195,  0.79614213,  0.99213169,  0.48559635,  0.88139695],\n",
       "       [ 0.37800489,  0.61997048,  0.28811948,  0.03968556,  0.16886658]])"
      ]
     },
     "execution_count": 41,
     "metadata": {},
     "output_type": "execute_result"
    }
   ],
   "source": [
    "# This will shuffle along the first index of a multi-dimensional array\n",
    "# will only shuffle in 1 dimension, in their own columns\n",
    "# if we want them to shuffle in their rows, we need to change the axis\n",
    "np.random.shuffle(rm)\n",
    "rm"
   ]
  },
  {
   "cell_type": "code",
   "execution_count": 42,
   "metadata": {
    "collapsed": false
   },
   "outputs": [
    {
     "name": "stdout",
     "output_type": "stream",
     "text": [
      "0.541367407459\n",
      "[ 0.56497371  0.57259816  0.66426244  0.37871778  0.52628495]\n",
      "[ 0.57356527  0.50213272  0.55502383  0.77718582  0.2989294 ]\n"
     ]
    }
   ],
   "source": [
    "print rm.mean()\n",
    "print rm.mean(0) #Average per column\n",
    "print rm.mean(1) #average per row"
   ]
  },
  {
   "cell_type": "code",
   "execution_count": 43,
   "metadata": {
    "collapsed": false
   },
   "outputs": [
    {
     "data": {
      "text/plain": [
       "array([[  2.98133747e+01,  -2.46147476e+00,  -1.66344454e+00,\n",
       "          4.22438164e+00,   1.53280304e+01,   1.27047572e+01,\n",
       "          9.76589725e+00,   6.31116361e+00,   1.28332908e+00,\n",
       "         -3.12682980e-01,   1.94463950e+01,   2.02127199e+01,\n",
       "          3.15744692e+00,   1.86457763e+01,   1.40165169e+01,\n",
       "          1.36541791e+01,   1.19418544e+01,   1.96635661e+01,\n",
       "          5.31766902e+00,   9.33962848e+00,   5.76535507e+00,\n",
       "          7.33554872e+00,   1.67386156e+01,   1.37189193e+01,\n",
       "          8.76625973e+00,   1.99113082e+01,  -3.39847407e+00,\n",
       "          1.38612164e+01,   1.10516454e+01,   1.40753057e+01],\n",
       "       [  2.05295125e+01,   4.95516487e+00,   2.39489789e+01,\n",
       "          3.68754782e+00,  -3.75437895e+00,   2.66187404e+01,\n",
       "          7.05428977e-01,  -1.91114959e+00,   1.34292529e+01,\n",
       "         -1.45923381e+01,  -8.56096406e+00,   1.02161333e+01,\n",
       "          3.93456088e+00,  -7.17593404e-01,   2.17176305e+01,\n",
       "         -1.66018710e-01,   1.97816588e+00,  -7.78084204e+00,\n",
       "         -1.91247123e-01,   8.43660061e+00,   1.89960283e+01,\n",
       "          9.47858278e+00,  -6.09551824e+00,   1.97868666e+01,\n",
       "          3.19988543e+00,   5.84582110e+00,   5.81742049e+00,\n",
       "          9.52413442e+00,   7.87430372e+00,   1.12899842e+00],\n",
       "       [  3.95216451e+00,  -8.47840299e+00,   1.46380368e+01,\n",
       "          1.59616464e+00,   8.06377059e+00,  -2.17634432e+00,\n",
       "         -4.48872465e+00,  -1.68857926e+00,   1.49244696e+01,\n",
       "          1.25437289e+01,   8.24356701e+00,   2.16122232e+00,\n",
       "          4.86520307e+00,  -2.87573858e+00,   1.83861203e+01,\n",
       "          9.55785518e+00,   8.15728423e+00,  -1.30066920e-01,\n",
       "          1.42578834e+01,   3.37145423e+00,   1.73674144e+01,\n",
       "          5.79181463e+00,   3.95655641e+00,  -1.03798625e+01,\n",
       "         -4.85659304e+00,   6.10634625e+00,  -2.15058483e+00,\n",
       "          1.27940482e+00,  -6.75008745e+00,  -5.79470157e+00],\n",
       "       [  7.92867759e+00,   2.92220297e+01,  -1.21909758e+01,\n",
       "         -1.12250674e+00,   5.93457297e+00,   5.44616639e+00,\n",
       "         -1.65421651e+01,   3.77634504e+00,  -9.95211348e+00,\n",
       "          4.21976455e+00,   1.17265456e+00,   1.72004118e+00,\n",
       "          4.99887092e+00,   8.50471517e+00,   7.17299103e+00,\n",
       "         -6.73040440e+00,   9.97438285e+00,  -2.24275069e+00,\n",
       "          2.56992460e+00,  -9.01413461e+00,  -2.10121752e+00,\n",
       "         -5.19837766e-01,   1.00673289e+00,   3.51666480e+00,\n",
       "          1.41952804e+01,   1.31638912e+00,   8.82574041e+00,\n",
       "          2.75933432e+00,   1.22596962e+01,   4.47032843e+00],\n",
       "       [  2.59100711e+01,   7.16826033e+00,  -5.07512132e+00,\n",
       "         -1.26992117e+00,  -3.24147374e+00,   9.96639426e+00,\n",
       "          1.75168351e+01,   2.59035846e-01,   6.40553604e+00,\n",
       "          1.36769856e+01,   1.16809892e+01,  -4.26431605e+00,\n",
       "          1.51009726e+01,  -9.09327731e+00,  -4.84446760e+00,\n",
       "          8.25221845e+00,   3.57435631e+00,   6.13928519e+00,\n",
       "          4.57128124e+00,   9.76655314e-01,  -1.41163032e+00,\n",
       "          7.99979339e+00,  -3.53221644e+00,   1.54023795e+00,\n",
       "         -4.10286389e+00,   1.53979515e+01,   1.20169562e+01,\n",
       "         -2.39900253e+00,   5.93275818e+00,   2.04096933e+00],\n",
       "       [ -7.38928510e+00,  -9.55649412e+00,  -9.42711543e+00,\n",
       "         -5.39097665e+00,   6.60432229e+00,   1.39090632e+01,\n",
       "          2.64090119e+00,  -8.53413494e+00,  -6.88404380e+00,\n",
       "         -6.75788384e+00,   1.21938116e+01,  -3.76814243e+00,\n",
       "         -4.80575482e+00,   7.19001648e+00,   1.42466026e+01,\n",
       "         -2.83096816e+00,  -9.04470667e+00,   1.63607244e+01,\n",
       "          1.41347769e+01,   2.91683595e+00,  -1.60094521e+00,\n",
       "          8.99870230e+00,   1.05321189e+01,   5.76182440e+00,\n",
       "          6.58118353e+00,   1.78051510e+01,   1.50979841e+01,\n",
       "          1.02632841e+01,  -1.22982759e+00,   6.13026063e+00],\n",
       "       [  5.77559966e+00,  -1.52903246e+01,   9.47594807e+00,\n",
       "         -8.24798550e+00,   1.81151366e+01,   1.41029647e+01,\n",
       "          7.21587505e+00,  -7.50495245e-01,   1.17331795e+01,\n",
       "          1.37678376e+00,   1.38661918e+00,  -1.13193171e+01,\n",
       "          1.80325335e+00,  -2.98484975e+00,   4.72732786e+00,\n",
       "          6.22257224e+00,   1.67254120e+01,  -6.93690678e+00,\n",
       "         -1.93495568e+00,   3.60386256e-02,  -1.36960570e+00,\n",
       "          7.62067820e-01,   7.98114274e+00,   4.98664322e+00,\n",
       "         -7.77728930e+00,   4.74227630e+00,   1.13691470e+01,\n",
       "          6.52944739e+00,   2.27974493e+01,   8.00567561e-02],\n",
       "       [  6.95382308e-01,   8.64227912e-01,   6.89307820e+00,\n",
       "          1.73179939e+01,   5.12647339e+00,   1.34538471e+01,\n",
       "          3.29121585e+00,   1.28490731e+01,   1.24438218e+01,\n",
       "         -7.58829816e+00,   7.18111732e+00,   7.07760212e+00,\n",
       "          1.51663474e+01,  -5.26949746e+00,  -1.29332263e+00,\n",
       "          1.63524641e+01,   4.40823798e+00,   1.21911991e+01,\n",
       "          1.07493384e+01,   5.09732893e+00,  -1.08593973e+00,\n",
       "         -1.35777925e+01,  -2.05876726e+01,   3.57065313e+00,\n",
       "          1.06109096e+01,   5.44672670e+00,  -1.13561676e+00,\n",
       "         -1.92090659e+00,   1.32819607e+01,  -1.22208386e+01],\n",
       "       [  1.09874517e+01,   1.15612404e+01,  -1.62751083e+01,\n",
       "          1.74222176e+01,  -9.40226151e+00,   3.10854029e-01,\n",
       "         -5.68992204e+00,   2.63437896e+01,   1.04157677e+01,\n",
       "          3.93499709e+00,   3.29245162e+00,  -9.74332201e-01,\n",
       "         -3.77808700e+00,   1.27567231e+01,  -5.26433697e+00,\n",
       "          9.61458046e+00,   6.32974079e+00,  -1.08107315e-01,\n",
       "          1.29876260e+01,  -6.74486288e+00,   4.37209048e+00,\n",
       "          5.46091103e+00,   7.78791747e+00,   5.48085047e+00,\n",
       "         -2.59247058e-01,   1.18845047e+01,   2.24949095e+00,\n",
       "          7.77839680e+00,   2.37007501e+01,  -1.77983709e+01],\n",
       "       [  1.02517150e+01,  -5.99353045e+00,   5.07562039e+00,\n",
       "          1.69558753e+01,   1.14089751e+01,   9.98719904e-02,\n",
       "          4.30992183e+00,   3.62134258e+00,  -4.96472971e+00,\n",
       "          6.12769043e-01,   2.81352263e+00,   8.67713700e+00,\n",
       "          2.35112671e+01,  -6.95254056e+00,   2.64280428e+00,\n",
       "          9.88630964e+00,  -4.43804272e+00,  -5.34031272e+00,\n",
       "         -2.04290942e+00,   1.24679837e+01,  -4.37436961e+00,\n",
       "          1.68603259e+00,   1.04357715e+01,   2.33997461e+01,\n",
       "          2.13121392e+01,   5.38557643e+00,   2.17119873e+01,\n",
       "          1.28638256e+01,   1.37958410e+01,   1.24943741e+01],\n",
       "       [ -1.12019919e+01,  -7.74506267e+00,   1.60933170e+01,\n",
       "          1.19705523e+01,   1.37974393e+01,  -8.69754761e-01,\n",
       "          1.13763501e+00,  -4.35653418e+00,  -9.70185954e+00,\n",
       "         -5.05566964e+00,   1.23777682e+00,  -1.13324041e+01,\n",
       "         -2.89932593e+00,   2.37055975e+00,   1.77403085e+01,\n",
       "         -8.00885708e+00,  -1.44201490e+00,  -1.42540655e+00,\n",
       "          1.96212494e+01,   1.75020654e+01,   9.65921926e+00,\n",
       "         -4.69400864e+00,   1.05312707e+00,   1.45675589e+01,\n",
       "          1.20539526e+01,   9.29844126e+00,   1.54875409e+01,\n",
       "          3.43554139e+01,   2.12350664e+00,  -8.97661655e-01],\n",
       "       [  3.12676621e+00,   1.14659587e+01,  -1.61307798e+01,\n",
       "          7.98866852e+00,   1.81964142e-01,   1.57011863e+01,\n",
       "          2.53164585e+01,  -3.16897006e+00,   9.28795493e+00,\n",
       "          1.53320851e+01,   6.46543478e+00,   4.36270611e+00,\n",
       "          1.67376861e+01,   1.75199878e+01,   1.62544101e+00,\n",
       "          1.28848573e+01,   6.31250454e+00,   4.56729532e+00,\n",
       "         -2.52250804e+00,   4.80232587e+00,  -3.81835710e+00,\n",
       "          1.54338259e+01,  -1.11931517e+01,  -1.12502917e+01,\n",
       "         -4.28989968e+00,   1.32526851e+00,  -8.39094031e+00,\n",
       "          9.46288085e+00,   3.88550377e+00,   1.68354606e+01],\n",
       "       [  1.58272779e+01,   5.04903752e+00,  -3.25948978e+00,\n",
       "         -7.77246420e+00,   1.06550573e+01,  -1.44645748e+01,\n",
       "          6.10178244e+00,   8.40495439e+00,   1.46284300e+01,\n",
       "          2.56803022e-01,  -1.32688799e+01,  -1.12289924e+01,\n",
       "         -1.89480930e+01,   5.83008613e+00,   1.85404874e+01,\n",
       "          1.91882602e+01,   1.15678950e+01,  -2.98193985e+00,\n",
       "         -5.64472591e+00,   1.23341893e+01,   1.54355093e+01,\n",
       "          9.55701184e+00,   8.28567157e+00,   2.63608566e+01,\n",
       "         -1.92890650e+00,   8.31306112e+00,   8.44137696e+00,\n",
       "         -1.31199769e+01,   7.45828035e+00,   4.70716809e+00],\n",
       "       [ -6.98748232e+00,   6.16363525e+00,   1.01252725e+01,\n",
       "         -6.36569750e-01,   1.84581051e+01,   1.46889253e+01,\n",
       "          1.13970826e+01,  -4.21112656e+00,   8.05316827e+00,\n",
       "          1.15972328e+01,   6.33881934e+00,  -1.02255290e+01,\n",
       "         -1.48338912e+01,   1.09469337e+01,  -2.19510313e+00,\n",
       "         -1.04429633e+00,   1.07437009e+01,   5.73174518e+00,\n",
       "          8.06289658e+00,  -1.50700816e+01,   3.07845373e+01,\n",
       "          4.71711810e+00,   2.41498154e-01,   1.31709167e+00,\n",
       "          6.43265753e+00,   2.62282683e+00,   9.14387187e-01,\n",
       "          2.43152086e+01,  -3.04143035e+00,  -1.98314816e+00],\n",
       "       [ -1.84998408e+00,   5.04529844e+00,   3.22936939e-01,\n",
       "          4.39140404e+00,   6.40696924e-01,   2.24112712e+01,\n",
       "         -9.40325226e+00,   1.54540757e+01,   6.55237406e-01,\n",
       "         -1.48397394e+00,   1.33065365e+01,   6.75854679e-01,\n",
       "          1.49028580e+01,   1.93150311e+01,   1.11255586e+01,\n",
       "          8.68611759e+00,   9.70401708e+00,  -4.20032363e-01,\n",
       "         -1.39957838e+00,  -1.41398180e+00,   1.35999248e+01,\n",
       "         -8.52010816e+00,   1.49266467e+01,   9.13499900e+00,\n",
       "         -7.87078925e+00,   4.42628944e+00,   3.30133180e+00,\n",
       "         -1.32035062e+00,   6.76195310e+00,   7.10635900e-02],\n",
       "       [ -3.48290126e+00,   3.02728338e+00,   6.65798703e+00,\n",
       "          9.00855715e+00,  -1.53738327e-01,   6.88250961e+00,\n",
       "          1.51407562e+01,  -2.55634888e+00,   8.53379177e+00,\n",
       "          3.79667294e+00,   5.68281152e+00,   9.85113644e+00,\n",
       "          1.32575670e+01,   1.30882324e+00,   1.40253484e+00,\n",
       "         -1.01035052e+01,   1.62732416e+01,  -1.60886501e+00,\n",
       "          1.07368666e+01,   7.13324944e+00,   4.97359833e+00,\n",
       "          1.56559555e+01,   2.47383992e+00,   5.37953532e+00,\n",
       "          6.58027821e+00,   3.70384580e+00,   4.65368102e+00,\n",
       "          1.47268644e+01,   3.10692381e+00,  -6.93511543e+00],\n",
       "       [  7.94636006e+00,   3.88078262e+00,   7.17904482e+00,\n",
       "          5.05944491e+00,   2.28871486e+01,  -4.34485801e+00,\n",
       "          8.31554729e+00,   6.77526291e+00,   2.01544325e+00,\n",
       "          6.68010056e+00,  -4.88468837e+00,   1.52843370e+00,\n",
       "          1.32540462e+01,   1.34846907e+01,  -2.35216131e+00,\n",
       "         -1.32832059e+01,  -6.12536586e+00,  -1.11510886e+00,\n",
       "          1.78435770e-01,   8.16402407e+00,   7.54165686e+00,\n",
       "          8.35247582e+00,  -3.37812440e+00,   8.71182942e+00,\n",
       "          7.74720471e+00,   1.04507852e+01,  -1.41429623e+01,\n",
       "          1.24162463e+01,   9.70589250e+00,   1.61256268e+01],\n",
       "       [ -6.12936738e+00,   3.90914039e+00,   1.12247951e+01,\n",
       "         -1.69779165e-01,   7.25395229e+00,   2.24406601e+00,\n",
       "         -1.09152781e+01,   1.42183785e+01,  -5.30799941e+00,\n",
       "          1.15091398e+01,  -1.19744772e+01,   2.56195651e+00,\n",
       "          2.81088350e+01,  -6.26041143e+00,  -1.79496852e+00,\n",
       "          2.27669492e+01,   1.13771534e+01,  -9.73048377e+00,\n",
       "         -1.14682265e+00,   1.52079572e+00,  -1.36986897e+01,\n",
       "         -9.11132689e-01,   2.47401845e+00,   2.74500331e+01,\n",
       "          1.22841667e+01,   3.45890527e+00,   8.20439799e+00,\n",
       "          6.56821495e+00,   1.51456019e+01,   1.93516312e+01],\n",
       "       [  1.92737679e+01,  -1.00646844e+01,  -4.71666157e-01,\n",
       "          1.14019044e+00,   1.85810850e+01,   1.98670221e+00,\n",
       "         -2.14299818e+01,  -1.35878134e+01,   1.17728145e+01,\n",
       "          2.15850077e+01,   2.67356470e+01,   4.71955488e+00,\n",
       "          5.18653660e+00,   1.62941694e+01,  -6.24324833e+00,\n",
       "         -3.81731064e+00,   1.08180744e+01,   2.93010731e+00,\n",
       "          1.01877618e+00,   6.56119218e+00,   1.05758512e+01,\n",
       "          1.12063189e+00,   2.39564598e+01,  -1.22313714e+01,\n",
       "          6.56711260e+00,   2.02537226e+01,   3.28750878e+00,\n",
       "          1.25886310e+01,  -9.38565768e+00,  -8.87816585e+00],\n",
       "       [  9.72193375e+00,  -1.94347569e+01,  -8.97229581e-01,\n",
       "         -1.30558730e+01,  -8.00419623e-01,   1.77979446e+01,\n",
       "          4.49801602e+00,   3.12513181e+00,   6.59446128e+00,\n",
       "         -2.02728226e+01,   1.28033396e+01,   2.58768306e+01,\n",
       "          4.71924593e+00,  -4.72588630e+00,   8.76151593e+00,\n",
       "          2.92192595e-01,   9.77277666e+00,   7.27199791e-01,\n",
       "          2.00972662e+01,   1.28984124e+01,   1.89606840e+00,\n",
       "          1.00174971e+01,   1.57088442e+01,  -3.58200713e+00,\n",
       "          2.36748223e+00,   6.41173938e+00,   5.67559808e+00,\n",
       "          2.18533339e+01,  -5.23136734e+00,   1.52199483e+01],\n",
       "       [  9.69280573e+00,   9.25312576e+00,  -3.42147924e-01,\n",
       "          1.26004943e+01,   8.61126809e+00,   1.20961169e+01,\n",
       "          3.02685132e-01,  -8.25169973e+00,  -3.71713342e+00,\n",
       "         -7.13337748e-01,   1.80250389e+01,  -8.46450277e+00,\n",
       "         -6.61928666e+00,  -8.66982641e-01,   9.86765979e-01,\n",
       "          3.19432302e+00,   1.33400089e+01,   2.01093567e+01,\n",
       "         -4.36970815e+00,   8.28777332e+00,   1.94909924e+01,\n",
       "          7.73123163e+00,  -7.95576197e+00,   1.75281533e+00,\n",
       "          1.35310294e+01,  -2.26779293e-01,   8.75985043e+00,\n",
       "         -9.07433490e-01,   1.76778077e+00,   8.14454289e+00],\n",
       "       [  2.95137745e+00,   5.55010317e+00,  -2.41841387e+00,\n",
       "          1.41401283e+01,  -8.36695257e-02,   6.81324541e+00,\n",
       "          1.22042528e+01,   7.54381717e+00,  -9.87142093e+00,\n",
       "         -8.36379649e-02,  -1.48770208e+00,   7.51901099e+00,\n",
       "         -9.83964529e+00,   8.73998560e-02,   2.36035926e+01,\n",
       "          2.17721125e+01,   1.47397926e+00,   9.87439850e+00,\n",
       "         -1.52675056e+01,   1.28855226e+01,  -7.24879423e-01,\n",
       "         -1.73500825e+00,   8.07056967e+00,  -5.84828270e+00,\n",
       "          2.37634570e+00,   3.79540880e+00,   1.40941975e+00,\n",
       "          1.40528866e+00,   9.71905818e+00,   1.52380617e+01],\n",
       "       [  1.62837436e+01,  -6.78287336e-01,  -3.67124072e+00,\n",
       "          2.20519114e+01,   2.07042038e+01,   3.99773595e+00,\n",
       "          1.09372877e+01,   9.74216604e+00,   9.89553218e+00,\n",
       "          1.34546716e+01,  -1.07474426e+00,   3.07321886e+00,\n",
       "         -1.51601932e-01,   7.71071339e+00,   1.21471740e+00,\n",
       "          7.65447042e+00,   4.53398822e+00,   9.88742717e+00,\n",
       "          1.05311600e+01,   1.14995665e+01,  -2.97975196e+00,\n",
       "          6.03898152e+00,  -3.06257953e+00,   7.37430418e+00,\n",
       "          1.23694128e+01,   1.03496676e+01,   1.29182411e+01,\n",
       "         -4.93934746e+00,   1.01492743e+01,   1.91134828e+00],\n",
       "       [  2.75221234e+00,  -2.86943759e+00,   1.13022548e+01,\n",
       "          4.29157710e-01,   4.61785902e+00,   1.25049943e+01,\n",
       "          1.01233927e+01,   7.14418652e+00,   2.30825777e+00,\n",
       "          6.51034654e+00,   3.93872751e+00,   7.30581002e+00,\n",
       "         -6.25998119e+00,  -1.13148937e+01,   9.86004772e+00,\n",
       "          6.66821697e+00,  -2.01779438e+00,   1.36031261e+01,\n",
       "         -3.14882485e+00,   2.04482644e+01,   8.60530810e+00,\n",
       "          7.20279665e+00,   9.29948987e-01,   1.41360815e+01,\n",
       "          1.05073166e+01,   4.35155455e+00,   7.50676000e+00,\n",
       "         -5.28040706e-01,  -3.65470999e+00,   6.49877960e+00],\n",
       "       [  8.93007557e+00,  -1.00166195e+01,  -7.84151039e-01,\n",
       "          1.46134557e+01,   8.95324407e+00,  -1.02639352e+01,\n",
       "          1.37393113e+01,  -4.33691472e+00,  -1.16707261e+01,\n",
       "          4.11582376e+00,   9.79931163e+00,  -3.25406478e+00,\n",
       "          2.75346567e+01,  -5.87849555e+00,   2.50812253e+01,\n",
       "          3.18603797e-01,  -3.10897545e+00,   5.55179503e+00,\n",
       "          1.32144963e+01,   5.43130312e+00,   7.99640980e+00,\n",
       "          5.09845118e+00,   1.41865909e+01,   3.31980606e+00,\n",
       "          2.13747437e+00,   5.68009502e+00,  -5.27689532e+00,\n",
       "          2.54575366e-02,   9.24736086e+00,   1.53757975e+01],\n",
       "       [  6.27570189e+00,   6.54191443e+00,   1.36106792e+01,\n",
       "          2.08750873e+01,  -3.66883388e+00,   2.37720124e+01,\n",
       "          7.07133907e+00,  -8.37421095e-01,  -2.38983408e+00,\n",
       "          1.21490853e+01,   2.99436357e+00,   1.45292028e+01,\n",
       "         -1.18291901e+01,   1.20777497e+01,   5.79114111e+00,\n",
       "          1.19572130e+01,  -6.31637508e+00,   1.07357756e+01,\n",
       "          2.08022234e+00,   1.08353036e+01,   1.98950043e+01,\n",
       "         -2.27783211e+00,  -4.16140466e+00,   2.61642203e+00,\n",
       "          8.27940453e-01,   1.09679281e+01,  -2.49977166e+00,\n",
       "          1.77395221e+01,   2.56701032e+00,   4.75785101e+00],\n",
       "       [  2.20173815e+01,   1.17362844e+00,   4.22295699e-01,\n",
       "          6.74890271e+00,   1.47476360e+01,  -3.05580725e+00,\n",
       "         -8.75637691e-01,   2.19622781e+01,   2.25927257e+01,\n",
       "         -4.72068711e+00,   9.57154524e-01,   1.27110659e+00,\n",
       "          1.06822022e+01,   9.43599704e+00,  -6.63792340e+00,\n",
       "          1.17467641e+01,  -8.29920288e-01,   4.61443854e+00,\n",
       "         -3.67841757e+00,  -1.01580821e+01,  -1.06063946e+00,\n",
       "          4.07045494e-01,  -1.93546223e+00,   1.65548005e+01,\n",
       "          3.64814996e+00,  -3.10119600e+00,   1.64428881e+01,\n",
       "          5.03372452e+00,   1.04437814e+01,   1.36971268e+01],\n",
       "       [  6.36447462e+00,  -5.35593062e-01,   4.68089906e+00,\n",
       "          1.64693589e+01,   1.01942277e+01,   2.86823846e+00,\n",
       "         -3.32856733e-01,   7.04203277e+00,   1.26699346e+01,\n",
       "         -3.50969175e-01,   6.00490755e+00,   1.78022666e+01,\n",
       "          1.03596186e+01,   8.05325617e+00,  -2.35153099e+00,\n",
       "         -3.83659340e+00,   9.54371837e+00,  -2.01081406e+00,\n",
       "          1.70822505e+01,   6.28638091e+00,   5.06972742e+00,\n",
       "         -1.25555689e+00,   8.86762986e+00,  -3.62995802e-01,\n",
       "          5.17684564e+00,  -4.70711129e+00,   2.32253714e+01,\n",
       "         -6.37384895e+00,   7.10410250e+00,  -7.96917020e-01],\n",
       "       [ -1.01300483e+00,   4.88136158e+00,   1.33287410e+01,\n",
       "          1.00973632e+01,   6.87496877e+00,   7.48062135e+00,\n",
       "          8.18366827e-01,   2.83991851e+00,   2.00736201e+01,\n",
       "          1.28077061e+01,   6.33527508e-01,   8.72992107e+00,\n",
       "          2.72391017e+00,   2.55955193e+01,   9.98252279e-01,\n",
       "         -2.62669966e+00,   1.36628960e+01,   1.68008186e+01,\n",
       "         -2.96133431e+00,   5.45311567e+00,   1.79454913e+01,\n",
       "          8.96543386e+00,   1.08320606e+01,   1.01233303e+01,\n",
       "          1.03770537e+00,   4.33823036e+00,   1.44322200e+01,\n",
       "          1.59631027e+01,  -2.39753544e+00,   3.10655748e+00],\n",
       "       [  1.38773754e+01,   7.85532940e+00,  -5.59286943e+00,\n",
       "          1.10458056e+01,  -4.87186203e+00,   8.31078444e-01,\n",
       "          1.13321679e+01,   2.01813868e+01,   4.27194564e-01,\n",
       "          1.92502086e+01,   1.19679735e+01,  -1.19563869e+01,\n",
       "          1.46427900e+00,  -1.11162019e+01,  -6.97897652e-01,\n",
       "          6.87325128e+00,  -4.26281326e+00,   1.37140646e+01,\n",
       "          4.86266563e+00,   2.50652307e+00,   4.34013918e+00,\n",
       "          1.04301787e+01,   7.24272835e+00,   4.97106199e+00,\n",
       "          1.78588243e+01,   2.51623508e+00,   4.28238282e+00,\n",
       "         -5.21984336e+00,  -1.00876245e+00,  -3.23983753e+00]])"
      ]
     },
     "execution_count": 43,
     "metadata": {},
     "output_type": "execute_result"
    }
   ],
   "source": [
    "# for a different Normal Distribution, use np.random.normal\n",
    "# here 5 in the mean, 9 is the variance, (30,30) is the matrix size\n",
    "rm = np.random.normal(5,9,(30,30))\n",
    "rm"
   ]
  },
  {
   "cell_type": "code",
   "execution_count": 44,
   "metadata": {
    "collapsed": false
   },
   "outputs": [
    {
     "name": "stdout",
     "output_type": "stream",
     "text": [
      "5.00663509521 which is hopefully close to the input mean\n",
      "82.5201880255 which variance = stdev squared\n",
      "4.96311342816\n"
     ]
    }
   ],
   "source": [
    "print rm.mean(), \"which is hopefully close to the input mean\"\n",
    "print rm.var(), \"which variance = stdev squared\"\n",
    "print np.median(rm)"
   ]
  },
  {
   "cell_type": "code",
   "execution_count": null,
   "metadata": {
    "collapsed": true
   },
   "outputs": [],
   "source": []
  },
  {
   "cell_type": "markdown",
   "metadata": {},
   "source": [
    "Find more distributions and random functions here: http://docs.scipy.org/doc/numpy/reference/routines.random.html"
   ]
  },
  {
   "cell_type": "markdown",
   "metadata": {},
   "source": [
    "### Exercise 1"
   ]
  },
  {
   "cell_type": "markdown",
   "metadata": {},
   "source": [
    "1) Create a 4x5 array of integers between 0 and 19"
   ]
  },
  {
   "cell_type": "code",
   "execution_count": 45,
   "metadata": {
    "collapsed": false
   },
   "outputs": [
    {
     "name": "stdout",
     "output_type": "stream",
     "text": [
      "[[ 0  1  2  3  4]\n",
      " [ 5  6  7  8  9]\n",
      " [10 11 12 13 14]\n",
      " [15 16 17 18 19]]\n"
     ]
    }
   ],
   "source": [
    "ex = np.arange(20).reshape(4,5)\n",
    "print ex"
   ]
  },
  {
   "cell_type": "markdown",
   "metadata": {},
   "source": [
    "2) Create a 50x500 array with a mean of 20 and variance of 100. Save it to a variable called  biggie"
   ]
  },
  {
   "cell_type": "code",
   "execution_count": 63,
   "metadata": {
    "collapsed": false
   },
   "outputs": [
    {
     "name": "stdout",
     "output_type": "stream",
     "text": [
      "[[ 17.72741957   3.66938455  12.08104638 ...,  13.9382309   25.38571311\n",
      "   22.34839827]\n",
      " [ 34.30601698  13.95795596  16.64997851 ...,  10.38382686  13.66924252\n",
      "   15.37458824]\n",
      " [ 30.93492686  17.05965771  24.32626644 ...,  40.38429984  16.2479701\n",
      "    2.67857599]\n",
      " ..., \n",
      " [  7.37576115   7.85854653  27.74031134 ...,  11.03406939  30.96892418\n",
      "    9.32631188]\n",
      " [ 13.13853058   6.3177513   26.70837055 ...,  15.01226236  22.31416742\n",
      "   11.45072277]\n",
      " [ 36.52411518  15.89729485   9.05742654 ...,  18.09887587  19.39901378\n",
      "   16.91916581]]\n"
     ]
    }
   ],
   "source": [
    "# Variance is usually the square of the number given\n",
    "biggie = np.random.normal(20,10, (50, 500) )\n",
    "print biggie"
   ]
  },
  {
   "cell_type": "code",
   "execution_count": 64,
   "metadata": {
    "collapsed": false
   },
   "outputs": [
    {
     "name": "stdout",
     "output_type": "stream",
     "text": [
      "19.9938885176 which is hopefully close to the input mean\n",
      "99.4398307253 which variance = stdev squared\n",
      "19.9615794923\n"
     ]
    }
   ],
   "source": [
    "print biggie.mean(), \"which is hopefully close to the input mean\"\n",
    "print biggie.var(), \"which variance = stdev squared\"\n",
    "print np.median(biggie)"
   ]
  },
  {
   "cell_type": "markdown",
   "metadata": {},
   "source": [
    "3) Change the mean of the array to a value within 1 of 0 and the variance within 1 of 25. Think about what the mean and the variance represent and try using various mathematical operations."
   ]
  },
  {
   "cell_type": "code",
   "execution_count": 65,
   "metadata": {
    "collapsed": false
   },
   "outputs": [
    {
     "name": "stdout",
     "output_type": "stream",
     "text": [
      "[[ -1.13629022  -8.16530773  -3.95947681 ...,  -3.03088455   2.69285655\n",
      "    1.17419913]\n",
      " [  7.15300849  -3.02102202  -1.67501074 ...,  -4.80808657  -3.16537874\n",
      "   -2.31270588]\n",
      " [  5.46746343  -1.47017114   2.16313322 ...,  10.19214992  -1.87601495\n",
      "   -8.66071201]\n",
      " ..., \n",
      " [ -6.31211942  -6.07072673   3.87015567 ...,  -4.48296531   5.48446209\n",
      "   -5.33684406]\n",
      " [ -3.43073471  -6.84112435   3.35418527 ...,  -2.49386882   1.15708371\n",
      "   -4.27463862]\n",
      " [  8.26205759  -2.05135258  -5.47128673 ...,  -0.95056206  -0.30049311\n",
      "   -1.54041709]]\n"
     ]
    }
   ],
   "source": [
    "big = np.matrix((biggie-20)/2)\n",
    "print big"
   ]
  },
  {
   "cell_type": "code",
   "execution_count": 57,
   "metadata": {
    "collapsed": false
   },
   "outputs": [
    {
     "name": "stdout",
     "output_type": "stream",
     "text": [
      "-0.0297352172615 which is hopefully close to the input mean\n",
      "25.3422345997 which variance = stdev squared\n"
     ]
    }
   ],
   "source": [
    "print big.mean(), \"which is hopefully close to the input mean\"\n",
    "print big.var(), \"which variance = stdev squared\""
   ]
  },
  {
   "cell_type": "markdown",
   "metadata": {},
   "source": [
    "## Pandas (python package)\n",
    "\n",
    "Pandas is a Python package providing fast, flexible, and expressive data structures designed to make working with “relational” or “labeled” data both easy and intuitive.\n",
    "\n",
    "Pandas is great for tabular/indexed data"
   ]
  },
  {
   "cell_type": "code",
   "execution_count": 66,
   "metadata": {
    "collapsed": true
   },
   "outputs": [],
   "source": [
    "# NOTE: you should normally put all your imports at the top of the file\n",
    "import pandas as pd"
   ]
  },
  {
   "cell_type": "code",
   "execution_count": 67,
   "metadata": {
    "collapsed": false
   },
   "outputs": [],
   "source": [
    "data = pd.read_csv('../data/nytimes.csv')"
   ]
  },
  {
   "cell_type": "code",
   "execution_count": 68,
   "metadata": {
    "collapsed": false
   },
   "outputs": [
    {
     "data": {
      "text/html": [
       "<div>\n",
       "<table border=\"1\" class=\"dataframe\">\n",
       "  <thead>\n",
       "    <tr style=\"text-align: right;\">\n",
       "      <th></th>\n",
       "      <th>Age</th>\n",
       "      <th>Gender</th>\n",
       "      <th>Impressions</th>\n",
       "      <th>Clicks</th>\n",
       "      <th>Signed_In</th>\n",
       "    </tr>\n",
       "  </thead>\n",
       "  <tbody>\n",
       "    <tr>\n",
       "      <th>0</th>\n",
       "      <td>36</td>\n",
       "      <td>0</td>\n",
       "      <td>3</td>\n",
       "      <td>0</td>\n",
       "      <td>1</td>\n",
       "    </tr>\n",
       "    <tr>\n",
       "      <th>1</th>\n",
       "      <td>73</td>\n",
       "      <td>1</td>\n",
       "      <td>3</td>\n",
       "      <td>0</td>\n",
       "      <td>1</td>\n",
       "    </tr>\n",
       "    <tr>\n",
       "      <th>2</th>\n",
       "      <td>30</td>\n",
       "      <td>0</td>\n",
       "      <td>3</td>\n",
       "      <td>0</td>\n",
       "      <td>1</td>\n",
       "    </tr>\n",
       "    <tr>\n",
       "      <th>3</th>\n",
       "      <td>49</td>\n",
       "      <td>1</td>\n",
       "      <td>3</td>\n",
       "      <td>0</td>\n",
       "      <td>1</td>\n",
       "    </tr>\n",
       "  </tbody>\n",
       "</table>\n",
       "</div>"
      ],
      "text/plain": [
       "   Age  Gender  Impressions  Clicks  Signed_In\n",
       "0   36       0            3       0          1\n",
       "1   73       1            3       0          1\n",
       "2   30       0            3       0          1\n",
       "3   49       1            3       0          1"
      ]
     },
     "execution_count": 68,
     "metadata": {},
     "output_type": "execute_result"
    }
   ],
   "source": [
    "# Note here we're calling the head method on the dataframe to return the 'head' of the \n",
    "# dataframe, in this case the first 4 lines\n",
    "# head() actually creates a new copy of the data, this is important later in the course!\n",
    "data.head(4)"
   ]
  },
  {
   "cell_type": "code",
   "execution_count": 69,
   "metadata": {
    "collapsed": false
   },
   "outputs": [
    {
     "data": {
      "text/html": [
       "<div>\n",
       "<table border=\"1\" class=\"dataframe\">\n",
       "  <thead>\n",
       "    <tr style=\"text-align: right;\">\n",
       "      <th></th>\n",
       "      <th>Age</th>\n",
       "      <th>Gender</th>\n",
       "      <th>Impressions</th>\n",
       "      <th>Clicks</th>\n",
       "      <th>Signed_In</th>\n",
       "    </tr>\n",
       "  </thead>\n",
       "  <tbody>\n",
       "    <tr>\n",
       "      <th>0</th>\n",
       "      <td>36</td>\n",
       "      <td>0</td>\n",
       "      <td>3</td>\n",
       "      <td>0</td>\n",
       "      <td>1</td>\n",
       "    </tr>\n",
       "    <tr>\n",
       "      <th>1</th>\n",
       "      <td>73</td>\n",
       "      <td>1</td>\n",
       "      <td>3</td>\n",
       "      <td>0</td>\n",
       "      <td>1</td>\n",
       "    </tr>\n",
       "    <tr>\n",
       "      <th>2</th>\n",
       "      <td>30</td>\n",
       "      <td>0</td>\n",
       "      <td>3</td>\n",
       "      <td>0</td>\n",
       "      <td>1</td>\n",
       "    </tr>\n",
       "    <tr>\n",
       "      <th>3</th>\n",
       "      <td>49</td>\n",
       "      <td>1</td>\n",
       "      <td>3</td>\n",
       "      <td>0</td>\n",
       "      <td>1</td>\n",
       "    </tr>\n",
       "  </tbody>\n",
       "</table>\n",
       "</div>"
      ],
      "text/plain": [
       "   Age  Gender  Impressions  Clicks  Signed_In\n",
       "0   36       0            3       0          1\n",
       "1   73       1            3       0          1\n",
       "2   30       0            3       0          1\n",
       "3   49       1            3       0          1"
      ]
     },
     "execution_count": 69,
     "metadata": {},
     "output_type": "execute_result"
    }
   ],
   "source": [
    "data[0:4]"
   ]
  },
  {
   "cell_type": "code",
   "execution_count": 70,
   "metadata": {
    "collapsed": false
   },
   "outputs": [
    {
     "data": {
      "text/plain": [
       "Int64Index([     0,      1,      2,      3,      4,      5,      6,      7,\n",
       "                 8,      9, \n",
       "            ...\n",
       "            458431, 458432, 458433, 458434, 458435, 458436, 458437, 458438,\n",
       "            458439, 458440],\n",
       "           dtype='int64', length=458441)"
      ]
     },
     "execution_count": 70,
     "metadata": {},
     "output_type": "execute_result"
    }
   ],
   "source": [
    "# Each DataFrame has an index\n",
    "# Sometimes you will need to reindex\n",
    "data.index"
   ]
  },
  {
   "cell_type": "code",
   "execution_count": 71,
   "metadata": {
    "collapsed": false
   },
   "outputs": [
    {
     "data": {
      "text/plain": [
       "0         36\n",
       "1         73\n",
       "2         30\n",
       "3         49\n",
       "4         47\n",
       "5         47\n",
       "6          0\n",
       "7         46\n",
       "8         16\n",
       "9         52\n",
       "10         0\n",
       "11        21\n",
       "12         0\n",
       "13        57\n",
       "14        31\n",
       "15         0\n",
       "16        40\n",
       "17        31\n",
       "18        38\n",
       "19         0\n",
       "20        59\n",
       "21        61\n",
       "22        48\n",
       "23        29\n",
       "24         0\n",
       "25        19\n",
       "26        19\n",
       "27        48\n",
       "28        48\n",
       "29        21\n",
       "          ..\n",
       "458411    55\n",
       "458412    68\n",
       "458413     0\n",
       "458414    21\n",
       "458415    35\n",
       "458416    26\n",
       "458417    41\n",
       "458418    58\n",
       "458419    46\n",
       "458420    45\n",
       "458421    46\n",
       "458422    47\n",
       "458423    22\n",
       "458424    21\n",
       "458425    40\n",
       "458426    49\n",
       "458427    43\n",
       "458428    40\n",
       "458429    49\n",
       "458430     0\n",
       "458431    21\n",
       "458432    30\n",
       "458433    21\n",
       "458434    61\n",
       "458435    51\n",
       "458436     0\n",
       "458437     0\n",
       "458438    72\n",
       "458439     0\n",
       "458440     0\n",
       "Name: Age, dtype: int64"
      ]
     },
     "execution_count": 71,
     "metadata": {},
     "output_type": "execute_result"
    }
   ],
   "source": [
    "# This is a Series\n",
    "# A DataFrame is made of of several Series with the same index\n",
    "data.Age"
   ]
  },
  {
   "cell_type": "code",
   "execution_count": 72,
   "metadata": {
    "collapsed": false
   },
   "outputs": [
    {
     "name": "stdout",
     "output_type": "stream",
     "text": [
      "<class 'pandas.core.frame.DataFrame'>\n",
      "Int64Index: 458441 entries, 0 to 458440\n",
      "Data columns (total 5 columns):\n",
      "Age            458441 non-null int64\n",
      "Gender         458441 non-null int64\n",
      "Impressions    458441 non-null int64\n",
      "Clicks         458441 non-null int64\n",
      "Signed_In      458441 non-null int64\n",
      "dtypes: int64(5)\n",
      "memory usage: 21.0 MB\n"
     ]
    }
   ],
   "source": [
    "# \n",
    "data.info()"
   ]
  },
  {
   "cell_type": "code",
   "execution_count": 73,
   "metadata": {
    "collapsed": false
   },
   "outputs": [
    {
     "data": {
      "text/html": [
       "<div>\n",
       "<table border=\"1\" class=\"dataframe\">\n",
       "  <thead>\n",
       "    <tr style=\"text-align: right;\">\n",
       "      <th></th>\n",
       "      <th>Age</th>\n",
       "      <th>Gender</th>\n",
       "      <th>Impressions</th>\n",
       "      <th>Clicks</th>\n",
       "      <th>Signed_In</th>\n",
       "    </tr>\n",
       "  </thead>\n",
       "  <tbody>\n",
       "    <tr>\n",
       "      <th>count</th>\n",
       "      <td>458441.000000</td>\n",
       "      <td>458441.000000</td>\n",
       "      <td>458441.000000</td>\n",
       "      <td>458441.000000</td>\n",
       "      <td>458441.000000</td>\n",
       "    </tr>\n",
       "    <tr>\n",
       "      <th>mean</th>\n",
       "      <td>29.482551</td>\n",
       "      <td>0.367037</td>\n",
       "      <td>5.007316</td>\n",
       "      <td>0.092594</td>\n",
       "      <td>0.700930</td>\n",
       "    </tr>\n",
       "    <tr>\n",
       "      <th>std</th>\n",
       "      <td>23.607034</td>\n",
       "      <td>0.481997</td>\n",
       "      <td>2.239349</td>\n",
       "      <td>0.309973</td>\n",
       "      <td>0.457851</td>\n",
       "    </tr>\n",
       "    <tr>\n",
       "      <th>min</th>\n",
       "      <td>0.000000</td>\n",
       "      <td>0.000000</td>\n",
       "      <td>0.000000</td>\n",
       "      <td>0.000000</td>\n",
       "      <td>0.000000</td>\n",
       "    </tr>\n",
       "    <tr>\n",
       "      <th>25%</th>\n",
       "      <td>0.000000</td>\n",
       "      <td>0.000000</td>\n",
       "      <td>3.000000</td>\n",
       "      <td>0.000000</td>\n",
       "      <td>0.000000</td>\n",
       "    </tr>\n",
       "    <tr>\n",
       "      <th>50%</th>\n",
       "      <td>31.000000</td>\n",
       "      <td>0.000000</td>\n",
       "      <td>5.000000</td>\n",
       "      <td>0.000000</td>\n",
       "      <td>1.000000</td>\n",
       "    </tr>\n",
       "    <tr>\n",
       "      <th>75%</th>\n",
       "      <td>48.000000</td>\n",
       "      <td>1.000000</td>\n",
       "      <td>6.000000</td>\n",
       "      <td>0.000000</td>\n",
       "      <td>1.000000</td>\n",
       "    </tr>\n",
       "    <tr>\n",
       "      <th>max</th>\n",
       "      <td>108.000000</td>\n",
       "      <td>1.000000</td>\n",
       "      <td>20.000000</td>\n",
       "      <td>4.000000</td>\n",
       "      <td>1.000000</td>\n",
       "    </tr>\n",
       "  </tbody>\n",
       "</table>\n",
       "</div>"
      ],
      "text/plain": [
       "                 Age         Gender    Impressions         Clicks  \\\n",
       "count  458441.000000  458441.000000  458441.000000  458441.000000   \n",
       "mean       29.482551       0.367037       5.007316       0.092594   \n",
       "std        23.607034       0.481997       2.239349       0.309973   \n",
       "min         0.000000       0.000000       0.000000       0.000000   \n",
       "25%         0.000000       0.000000       3.000000       0.000000   \n",
       "50%        31.000000       0.000000       5.000000       0.000000   \n",
       "75%        48.000000       1.000000       6.000000       0.000000   \n",
       "max       108.000000       1.000000      20.000000       4.000000   \n",
       "\n",
       "           Signed_In  \n",
       "count  458441.000000  \n",
       "mean        0.700930  \n",
       "std         0.457851  \n",
       "min         0.000000  \n",
       "25%         0.000000  \n",
       "50%         1.000000  \n",
       "75%         1.000000  \n",
       "max         1.000000  "
      ]
     },
     "execution_count": 73,
     "metadata": {},
     "output_type": "execute_result"
    }
   ],
   "source": [
    "data.describe()"
   ]
  },
  {
   "cell_type": "code",
   "execution_count": 74,
   "metadata": {
    "collapsed": false
   },
   "outputs": [
    {
     "data": {
      "text/plain": [
       "numpy.ndarray"
      ]
     },
     "execution_count": 74,
     "metadata": {},
     "output_type": "execute_result"
    }
   ],
   "source": [
    "# We can change this data into numpy\n",
    "type(data.Age.values)"
   ]
  },
  {
   "cell_type": "markdown",
   "metadata": {},
   "source": [
    "#### Just like in numpy, we can use mean, var, and other functions on the data"
   ]
  },
  {
   "cell_type": "code",
   "execution_count": 75,
   "metadata": {
    "collapsed": false
   },
   "outputs": [
    {
     "name": "stdout",
     "output_type": "stream",
     "text": [
      "29.4825506445\n",
      "557.292044027\n",
      "108\n",
      "0\n"
     ]
    }
   ],
   "source": [
    "print data.Age.mean()\n",
    "print data.Age.var()\n",
    "print data.Age.max()\n",
    "print data.Age.min()"
   ]
  },
  {
   "cell_type": "code",
   "execution_count": 78,
   "metadata": {
    "collapsed": true
   },
   "outputs": [],
   "source": [
    "# Function that groups users by age.\n",
    "def map_age_category(x):\n",
    "    if x < 18:\n",
    "        return '1'\n",
    "    elif x < 25:\n",
    "        return '2'\n",
    "    elif x < 32:\n",
    "        return '3'\n",
    "    elif x < 45:\n",
    "        return '4'\n",
    "    else:\n",
    "        return '5'\n",
    "\n",
    "# apply takes the given function, and for each value in age it is going to apply that function to the value.\n",
    "# by doing data['age_categories], I am creating a new column\n",
    "data['age_categories'] = data['Age'].apply(map_age_category)"
   ]
  },
  {
   "cell_type": "code",
   "execution_count": 79,
   "metadata": {
    "collapsed": false
   },
   "outputs": [
    {
     "data": {
      "text/html": [
       "<div>\n",
       "<table border=\"1\" class=\"dataframe\">\n",
       "  <thead>\n",
       "    <tr style=\"text-align: right;\">\n",
       "      <th></th>\n",
       "      <th>Age</th>\n",
       "      <th>Gender</th>\n",
       "      <th>Impressions</th>\n",
       "      <th>Clicks</th>\n",
       "      <th>Signed_In</th>\n",
       "      <th>age_categories</th>\n",
       "    </tr>\n",
       "  </thead>\n",
       "  <tbody>\n",
       "    <tr>\n",
       "      <th>0</th>\n",
       "      <td>36</td>\n",
       "      <td>0</td>\n",
       "      <td>3</td>\n",
       "      <td>0</td>\n",
       "      <td>1</td>\n",
       "      <td>4</td>\n",
       "    </tr>\n",
       "    <tr>\n",
       "      <th>1</th>\n",
       "      <td>73</td>\n",
       "      <td>1</td>\n",
       "      <td>3</td>\n",
       "      <td>0</td>\n",
       "      <td>1</td>\n",
       "      <td>5</td>\n",
       "    </tr>\n",
       "    <tr>\n",
       "      <th>2</th>\n",
       "      <td>30</td>\n",
       "      <td>0</td>\n",
       "      <td>3</td>\n",
       "      <td>0</td>\n",
       "      <td>1</td>\n",
       "      <td>3</td>\n",
       "    </tr>\n",
       "    <tr>\n",
       "      <th>3</th>\n",
       "      <td>49</td>\n",
       "      <td>1</td>\n",
       "      <td>3</td>\n",
       "      <td>0</td>\n",
       "      <td>1</td>\n",
       "      <td>5</td>\n",
       "    </tr>\n",
       "    <tr>\n",
       "      <th>4</th>\n",
       "      <td>47</td>\n",
       "      <td>1</td>\n",
       "      <td>11</td>\n",
       "      <td>0</td>\n",
       "      <td>1</td>\n",
       "      <td>5</td>\n",
       "    </tr>\n",
       "  </tbody>\n",
       "</table>\n",
       "</div>"
      ],
      "text/plain": [
       "   Age  Gender  Impressions  Clicks  Signed_In age_categories\n",
       "0   36       0            3       0          1              4\n",
       "1   73       1            3       0          1              5\n",
       "2   30       0            3       0          1              3\n",
       "3   49       1            3       0          1              5\n",
       "4   47       1           11       0          1              5"
      ]
     },
     "execution_count": 79,
     "metadata": {},
     "output_type": "execute_result"
    }
   ],
   "source": [
    "data.head()"
   ]
  },
  {
   "cell_type": "markdown",
   "metadata": {},
   "source": [
    "#### Sorting data"
   ]
  },
  {
   "cell_type": "code",
   "execution_count": 82,
   "metadata": {
    "collapsed": false
   },
   "outputs": [
    {
     "data": {
      "text/html": [
       "<div>\n",
       "<table border=\"1\" class=\"dataframe\">\n",
       "  <thead>\n",
       "    <tr style=\"text-align: right;\">\n",
       "      <th></th>\n",
       "      <th>age_categories</th>\n",
       "      <th>Signed_In</th>\n",
       "      <th>Impressions</th>\n",
       "      <th>Gender</th>\n",
       "      <th>Clicks</th>\n",
       "      <th>Age</th>\n",
       "    </tr>\n",
       "  </thead>\n",
       "  <tbody>\n",
       "    <tr>\n",
       "      <th>0</th>\n",
       "      <td>4</td>\n",
       "      <td>1</td>\n",
       "      <td>3</td>\n",
       "      <td>0</td>\n",
       "      <td>0</td>\n",
       "      <td>36</td>\n",
       "    </tr>\n",
       "    <tr>\n",
       "      <th>1</th>\n",
       "      <td>5</td>\n",
       "      <td>1</td>\n",
       "      <td>3</td>\n",
       "      <td>1</td>\n",
       "      <td>0</td>\n",
       "      <td>73</td>\n",
       "    </tr>\n",
       "    <tr>\n",
       "      <th>2</th>\n",
       "      <td>3</td>\n",
       "      <td>1</td>\n",
       "      <td>3</td>\n",
       "      <td>0</td>\n",
       "      <td>0</td>\n",
       "      <td>30</td>\n",
       "    </tr>\n",
       "    <tr>\n",
       "      <th>3</th>\n",
       "      <td>5</td>\n",
       "      <td>1</td>\n",
       "      <td>3</td>\n",
       "      <td>1</td>\n",
       "      <td>0</td>\n",
       "      <td>49</td>\n",
       "    </tr>\n",
       "    <tr>\n",
       "      <th>4</th>\n",
       "      <td>5</td>\n",
       "      <td>1</td>\n",
       "      <td>11</td>\n",
       "      <td>1</td>\n",
       "      <td>0</td>\n",
       "      <td>47</td>\n",
       "    </tr>\n",
       "  </tbody>\n",
       "</table>\n",
       "</div>"
      ],
      "text/plain": [
       "  age_categories  Signed_In  Impressions  Gender  Clicks  Age\n",
       "0              4          1            3       0       0   36\n",
       "1              5          1            3       1       0   73\n",
       "2              3          1            3       0       0   30\n",
       "3              5          1            3       1       0   49\n",
       "4              5          1           11       1       0   47"
      ]
     },
     "execution_count": 82,
     "metadata": {},
     "output_type": "execute_result"
    }
   ],
   "source": [
    "# axis = 1 is columns\n",
    "# axis = 0 is index/rows\n",
    "# default is axis = 0\n",
    "data.sort_index(axis=1, ascending=False).head()"
   ]
  },
  {
   "cell_type": "code",
   "execution_count": 83,
   "metadata": {
    "collapsed": false
   },
   "outputs": [
    {
     "data": {
      "text/html": [
       "<div>\n",
       "<table border=\"1\" class=\"dataframe\">\n",
       "  <thead>\n",
       "    <tr style=\"text-align: right;\">\n",
       "      <th></th>\n",
       "      <th>Age</th>\n",
       "      <th>Gender</th>\n",
       "      <th>Impressions</th>\n",
       "      <th>Clicks</th>\n",
       "      <th>Signed_In</th>\n",
       "      <th>age_categories</th>\n",
       "    </tr>\n",
       "  </thead>\n",
       "  <tbody>\n",
       "    <tr>\n",
       "      <th>458440</th>\n",
       "      <td>0</td>\n",
       "      <td>0</td>\n",
       "      <td>3</td>\n",
       "      <td>0</td>\n",
       "      <td>0</td>\n",
       "      <td>1</td>\n",
       "    </tr>\n",
       "    <tr>\n",
       "      <th>149914</th>\n",
       "      <td>0</td>\n",
       "      <td>0</td>\n",
       "      <td>5</td>\n",
       "      <td>0</td>\n",
       "      <td>0</td>\n",
       "      <td>1</td>\n",
       "    </tr>\n",
       "    <tr>\n",
       "      <th>149915</th>\n",
       "      <td>0</td>\n",
       "      <td>0</td>\n",
       "      <td>10</td>\n",
       "      <td>1</td>\n",
       "      <td>0</td>\n",
       "      <td>1</td>\n",
       "    </tr>\n",
       "    <tr>\n",
       "      <th>149916</th>\n",
       "      <td>0</td>\n",
       "      <td>0</td>\n",
       "      <td>6</td>\n",
       "      <td>1</td>\n",
       "      <td>0</td>\n",
       "      <td>1</td>\n",
       "    </tr>\n",
       "    <tr>\n",
       "      <th>353762</th>\n",
       "      <td>0</td>\n",
       "      <td>0</td>\n",
       "      <td>3</td>\n",
       "      <td>0</td>\n",
       "      <td>0</td>\n",
       "      <td>1</td>\n",
       "    </tr>\n",
       "  </tbody>\n",
       "</table>\n",
       "</div>"
      ],
      "text/plain": [
       "        Age  Gender  Impressions  Clicks  Signed_In age_categories\n",
       "458440    0       0            3       0          0              1\n",
       "149914    0       0            5       0          0              1\n",
       "149915    0       0           10       1          0              1\n",
       "149916    0       0            6       1          0              1\n",
       "353762    0       0            3       0          0              1"
      ]
     },
     "execution_count": 83,
     "metadata": {},
     "output_type": "execute_result"
    }
   ],
   "source": [
    "data.sort('Signed_In').head()"
   ]
  },
  {
   "cell_type": "code",
   "execution_count": 84,
   "metadata": {
    "collapsed": false
   },
   "outputs": [
    {
     "data": {
      "text/html": [
       "<div>\n",
       "<table border=\"1\" class=\"dataframe\">\n",
       "  <thead>\n",
       "    <tr style=\"text-align: right;\">\n",
       "      <th></th>\n",
       "      <th>col_a</th>\n",
       "      <th>numeric</th>\n",
       "    </tr>\n",
       "  </thead>\n",
       "  <tbody>\n",
       "    <tr>\n",
       "      <th>0</th>\n",
       "      <td>a</td>\n",
       "      <td>1</td>\n",
       "    </tr>\n",
       "    <tr>\n",
       "      <th>1</th>\n",
       "      <td>b</td>\n",
       "      <td>2</td>\n",
       "    </tr>\n",
       "    <tr>\n",
       "      <th>2</th>\n",
       "      <td>c</td>\n",
       "      <td>3</td>\n",
       "    </tr>\n",
       "  </tbody>\n",
       "</table>\n",
       "</div>"
      ],
      "text/plain": [
       "  col_a  numeric\n",
       "0     a        1\n",
       "1     b        2\n",
       "2     c        3"
      ]
     },
     "execution_count": 84,
     "metadata": {},
     "output_type": "execute_result"
    }
   ],
   "source": [
    "ran_data = [\n",
    "    ['a', 1]\n",
    "    , ['b', 2]\n",
    "    , ['c', 3]\n",
    "]\n",
    "df = pd.DataFrame(ran_data, columns=['col_a', 'numeric'])\n",
    "df"
   ]
  },
  {
   "cell_type": "markdown",
   "metadata": {},
   "source": [
    "#### Indexing functions\n",
    "\n",
    "Pandas Dataframes support various methods for indexing:\n",
    "\n",
    "- .iloc\n",
    "- .loc\n",
    "- .ix"
   ]
  },
  {
   "cell_type": "code",
   "execution_count": 85,
   "metadata": {
    "collapsed": false
   },
   "outputs": [
    {
     "data": {
      "text/html": [
       "<div>\n",
       "<table border=\"1\" class=\"dataframe\">\n",
       "  <thead>\n",
       "    <tr style=\"text-align: right;\">\n",
       "      <th></th>\n",
       "      <th>col_a</th>\n",
       "      <th>numeric</th>\n",
       "    </tr>\n",
       "  </thead>\n",
       "  <tbody>\n",
       "    <tr>\n",
       "      <th>0</th>\n",
       "      <td>a</td>\n",
       "      <td>1</td>\n",
       "    </tr>\n",
       "    <tr>\n",
       "      <th>1</th>\n",
       "      <td>b</td>\n",
       "      <td>2</td>\n",
       "    </tr>\n",
       "    <tr>\n",
       "      <th>2</th>\n",
       "      <td>c</td>\n",
       "      <td>3</td>\n",
       "    </tr>\n",
       "  </tbody>\n",
       "</table>\n",
       "</div>"
      ],
      "text/plain": [
       "  col_a  numeric\n",
       "0     a        1\n",
       "1     b        2\n",
       "2     c        3"
      ]
     },
     "execution_count": 85,
     "metadata": {},
     "output_type": "execute_result"
    }
   ],
   "source": [
    "df"
   ]
  },
  {
   "cell_type": "code",
   "execution_count": 86,
   "metadata": {
    "collapsed": false
   },
   "outputs": [
    {
     "data": {
      "text/plain": [
       "col_a      a\n",
       "numeric    1\n",
       "Name: 0, dtype: object"
      ]
     },
     "execution_count": 86,
     "metadata": {},
     "output_type": "execute_result"
    }
   ],
   "source": [
    "# iloc accesses a row by its row number\n",
    "df.iloc[0]"
   ]
  },
  {
   "cell_type": "code",
   "execution_count": 87,
   "metadata": {
    "collapsed": false
   },
   "outputs": [
    {
     "data": {
      "text/html": [
       "<div>\n",
       "<table border=\"1\" class=\"dataframe\">\n",
       "  <thead>\n",
       "    <tr style=\"text-align: right;\">\n",
       "      <th></th>\n",
       "      <th>numeric</th>\n",
       "    </tr>\n",
       "    <tr>\n",
       "      <th>col_a</th>\n",
       "      <th></th>\n",
       "    </tr>\n",
       "  </thead>\n",
       "  <tbody>\n",
       "    <tr>\n",
       "      <th>a</th>\n",
       "      <td>1</td>\n",
       "    </tr>\n",
       "    <tr>\n",
       "      <th>b</th>\n",
       "      <td>2</td>\n",
       "    </tr>\n",
       "    <tr>\n",
       "      <th>c</th>\n",
       "      <td>3</td>\n",
       "    </tr>\n",
       "  </tbody>\n",
       "</table>\n",
       "</div>"
      ],
      "text/plain": [
       "       numeric\n",
       "col_a         \n",
       "a            1\n",
       "b            2\n",
       "c            3"
      ]
     },
     "execution_count": 87,
     "metadata": {},
     "output_type": "execute_result"
    }
   ],
   "source": [
    "df.set_index('col_a', inplace = True)\n",
    "df"
   ]
  },
  {
   "cell_type": "code",
   "execution_count": 88,
   "metadata": {
    "collapsed": false
   },
   "outputs": [],
   "source": [
    "# loc accesses a dataframe row by its index label (or column label)\n",
    "df.loc['a'] = 5\n",
    "df.loc['b'] = 3"
   ]
  },
  {
   "cell_type": "code",
   "execution_count": 89,
   "metadata": {
    "collapsed": false
   },
   "outputs": [
    {
     "data": {
      "text/html": [
       "<div>\n",
       "<table border=\"1\" class=\"dataframe\">\n",
       "  <thead>\n",
       "    <tr style=\"text-align: right;\">\n",
       "      <th></th>\n",
       "      <th>numeric</th>\n",
       "    </tr>\n",
       "    <tr>\n",
       "      <th>col_a</th>\n",
       "      <th></th>\n",
       "    </tr>\n",
       "  </thead>\n",
       "  <tbody>\n",
       "    <tr>\n",
       "      <th>a</th>\n",
       "      <td>5</td>\n",
       "    </tr>\n",
       "    <tr>\n",
       "      <th>b</th>\n",
       "      <td>3</td>\n",
       "    </tr>\n",
       "    <tr>\n",
       "      <th>c</th>\n",
       "      <td>3</td>\n",
       "    </tr>\n",
       "  </tbody>\n",
       "</table>\n",
       "</div>"
      ],
      "text/plain": [
       "       numeric\n",
       "col_a         \n",
       "a            5\n",
       "b            3\n",
       "c            3"
      ]
     },
     "execution_count": 89,
     "metadata": {},
     "output_type": "execute_result"
    }
   ],
   "source": [
    "df"
   ]
  },
  {
   "cell_type": "code",
   "execution_count": 90,
   "metadata": {
    "collapsed": false
   },
   "outputs": [
    {
     "data": {
      "text/html": [
       "<div>\n",
       "<table border=\"1\" class=\"dataframe\">\n",
       "  <thead>\n",
       "    <tr style=\"text-align: right;\">\n",
       "      <th></th>\n",
       "      <th>numeric</th>\n",
       "      <th>C</th>\n",
       "    </tr>\n",
       "    <tr>\n",
       "      <th>col_a</th>\n",
       "      <th></th>\n",
       "      <th></th>\n",
       "    </tr>\n",
       "  </thead>\n",
       "  <tbody>\n",
       "    <tr>\n",
       "      <th>a</th>\n",
       "      <td>5</td>\n",
       "      <td>5</td>\n",
       "    </tr>\n",
       "    <tr>\n",
       "      <th>b</th>\n",
       "      <td>3</td>\n",
       "      <td>3</td>\n",
       "    </tr>\n",
       "    <tr>\n",
       "      <th>c</th>\n",
       "      <td>3</td>\n",
       "      <td>3</td>\n",
       "    </tr>\n",
       "  </tbody>\n",
       "</table>\n",
       "</div>"
      ],
      "text/plain": [
       "       numeric  C\n",
       "col_a            \n",
       "a            5  5\n",
       "b            3  3\n",
       "c            3  3"
      ]
     },
     "execution_count": 90,
     "metadata": {},
     "output_type": "execute_result"
    }
   ],
   "source": [
    "# This can be used to add new columns\n",
    "df.loc[:,'C'] = df.loc[:,'numeric']\n",
    "\n",
    "df"
   ]
  },
  {
   "cell_type": "code",
   "execution_count": 91,
   "metadata": {
    "collapsed": false
   },
   "outputs": [
    {
     "data": {
      "text/html": [
       "<div>\n",
       "<table border=\"1\" class=\"dataframe\">\n",
       "  <thead>\n",
       "    <tr style=\"text-align: right;\">\n",
       "      <th></th>\n",
       "      <th>numeric</th>\n",
       "      <th>C</th>\n",
       "      <th>D</th>\n",
       "    </tr>\n",
       "    <tr>\n",
       "      <th>col_a</th>\n",
       "      <th></th>\n",
       "      <th></th>\n",
       "      <th></th>\n",
       "    </tr>\n",
       "  </thead>\n",
       "  <tbody>\n",
       "    <tr>\n",
       "      <th>a</th>\n",
       "      <td>5</td>\n",
       "      <td>5</td>\n",
       "      <td>5</td>\n",
       "    </tr>\n",
       "    <tr>\n",
       "      <th>b</th>\n",
       "      <td>3</td>\n",
       "      <td>3</td>\n",
       "      <td>3</td>\n",
       "    </tr>\n",
       "    <tr>\n",
       "      <th>c</th>\n",
       "      <td>3</td>\n",
       "      <td>3</td>\n",
       "      <td>3</td>\n",
       "    </tr>\n",
       "  </tbody>\n",
       "</table>\n",
       "</div>"
      ],
      "text/plain": [
       "       numeric  C  D\n",
       "col_a               \n",
       "a            5  5  5\n",
       "b            3  3  3\n",
       "c            3  3  3"
      ]
     },
     "execution_count": 91,
     "metadata": {},
     "output_type": "execute_result"
    }
   ],
   "source": [
    "# is equivalent to:\n",
    "df['D'] = df.loc[:,'numeric']\n",
    "\n",
    "df"
   ]
  },
  {
   "cell_type": "markdown",
   "metadata": {},
   "source": [
    ".ix is the generic form of indexers\n",
    "\n",
    "Values can be set by index and index + column"
   ]
  },
  {
   "cell_type": "code",
   "execution_count": 92,
   "metadata": {
    "collapsed": false
   },
   "outputs": [
    {
     "data": {
      "text/html": [
       "<div>\n",
       "<table border=\"1\" class=\"dataframe\">\n",
       "  <thead>\n",
       "    <tr style=\"text-align: right;\">\n",
       "      <th></th>\n",
       "      <th>numeric</th>\n",
       "      <th>C</th>\n",
       "      <th>D</th>\n",
       "    </tr>\n",
       "    <tr>\n",
       "      <th>col_a</th>\n",
       "      <th></th>\n",
       "      <th></th>\n",
       "      <th></th>\n",
       "    </tr>\n",
       "  </thead>\n",
       "  <tbody>\n",
       "    <tr>\n",
       "      <th>a</th>\n",
       "      <td>5</td>\n",
       "      <td>5</td>\n",
       "      <td>5</td>\n",
       "    </tr>\n",
       "    <tr>\n",
       "      <th>b</th>\n",
       "      <td>3</td>\n",
       "      <td>3</td>\n",
       "      <td>3</td>\n",
       "    </tr>\n",
       "    <tr>\n",
       "      <th>c</th>\n",
       "      <td>2</td>\n",
       "      <td>3</td>\n",
       "      <td>2</td>\n",
       "    </tr>\n",
       "  </tbody>\n",
       "</table>\n",
       "</div>"
      ],
      "text/plain": [
       "       numeric  C  D\n",
       "col_a               \n",
       "a            5  5  5\n",
       "b            3  3  3\n",
       "c            2  3  2"
      ]
     },
     "execution_count": 92,
     "metadata": {},
     "output_type": "execute_result"
    }
   ],
   "source": [
    "df.ix[2] = 2\n",
    "df.ix[2, 'C'] = 3\n",
    "\n",
    "df"
   ]
  },
  {
   "cell_type": "markdown",
   "metadata": {},
   "source": [
    "### Combining DataFrames\n",
    "#### Appending\n",
    "We can append dataframes together"
   ]
  },
  {
   "cell_type": "code",
   "execution_count": 93,
   "metadata": {
    "collapsed": false
   },
   "outputs": [
    {
     "data": {
      "text/html": [
       "<div>\n",
       "<table border=\"1\" class=\"dataframe\">\n",
       "  <thead>\n",
       "    <tr style=\"text-align: right;\">\n",
       "      <th></th>\n",
       "      <th>numeric</th>\n",
       "      <th>C</th>\n",
       "      <th>D</th>\n",
       "    </tr>\n",
       "    <tr>\n",
       "      <th>col_a</th>\n",
       "      <th></th>\n",
       "      <th></th>\n",
       "      <th></th>\n",
       "    </tr>\n",
       "  </thead>\n",
       "  <tbody>\n",
       "    <tr>\n",
       "      <th>a</th>\n",
       "      <td>5</td>\n",
       "      <td>5</td>\n",
       "      <td>5</td>\n",
       "    </tr>\n",
       "    <tr>\n",
       "      <th>b</th>\n",
       "      <td>3</td>\n",
       "      <td>3</td>\n",
       "      <td>3</td>\n",
       "    </tr>\n",
       "    <tr>\n",
       "      <th>c</th>\n",
       "      <td>2</td>\n",
       "      <td>3</td>\n",
       "      <td>2</td>\n",
       "    </tr>\n",
       "    <tr>\n",
       "      <th>a</th>\n",
       "      <td>5</td>\n",
       "      <td>5</td>\n",
       "      <td>5</td>\n",
       "    </tr>\n",
       "    <tr>\n",
       "      <th>b</th>\n",
       "      <td>3</td>\n",
       "      <td>3</td>\n",
       "      <td>3</td>\n",
       "    </tr>\n",
       "    <tr>\n",
       "      <th>c</th>\n",
       "      <td>2</td>\n",
       "      <td>3</td>\n",
       "      <td>2</td>\n",
       "    </tr>\n",
       "  </tbody>\n",
       "</table>\n",
       "</div>"
      ],
      "text/plain": [
       "       numeric  C  D\n",
       "col_a               \n",
       "a            5  5  5\n",
       "b            3  3  3\n",
       "c            2  3  2\n",
       "a            5  5  5\n",
       "b            3  3  3\n",
       "c            2  3  2"
      ]
     },
     "execution_count": 93,
     "metadata": {},
     "output_type": "execute_result"
    }
   ],
   "source": [
    "# append stacks them on top of each other\n",
    "df_combine = df.append(df)\n",
    "df_combine"
   ]
  },
  {
   "cell_type": "code",
   "execution_count": 94,
   "metadata": {
    "collapsed": false
   },
   "outputs": [
    {
     "data": {
      "text/html": [
       "<div>\n",
       "<table border=\"1\" class=\"dataframe\">\n",
       "  <thead>\n",
       "    <tr style=\"text-align: right;\">\n",
       "      <th></th>\n",
       "      <th>col_a</th>\n",
       "      <th>numeric</th>\n",
       "      <th>C</th>\n",
       "      <th>D</th>\n",
       "    </tr>\n",
       "  </thead>\n",
       "  <tbody>\n",
       "    <tr>\n",
       "      <th>0</th>\n",
       "      <td>a</td>\n",
       "      <td>5</td>\n",
       "      <td>5</td>\n",
       "      <td>5</td>\n",
       "    </tr>\n",
       "    <tr>\n",
       "      <th>1</th>\n",
       "      <td>b</td>\n",
       "      <td>3</td>\n",
       "      <td>3</td>\n",
       "      <td>3</td>\n",
       "    </tr>\n",
       "    <tr>\n",
       "      <th>2</th>\n",
       "      <td>c</td>\n",
       "      <td>2</td>\n",
       "      <td>3</td>\n",
       "      <td>2</td>\n",
       "    </tr>\n",
       "    <tr>\n",
       "      <th>3</th>\n",
       "      <td>a</td>\n",
       "      <td>5</td>\n",
       "      <td>5</td>\n",
       "      <td>5</td>\n",
       "    </tr>\n",
       "    <tr>\n",
       "      <th>4</th>\n",
       "      <td>b</td>\n",
       "      <td>3</td>\n",
       "      <td>3</td>\n",
       "      <td>3</td>\n",
       "    </tr>\n",
       "    <tr>\n",
       "      <th>5</th>\n",
       "      <td>c</td>\n",
       "      <td>2</td>\n",
       "      <td>3</td>\n",
       "      <td>2</td>\n",
       "    </tr>\n",
       "  </tbody>\n",
       "</table>\n",
       "</div>"
      ],
      "text/plain": [
       "  col_a  numeric  C  D\n",
       "0     a        5  5  5\n",
       "1     b        3  3  3\n",
       "2     c        2  3  2\n",
       "3     a        5  5  5\n",
       "4     b        3  3  3\n",
       "5     c        2  3  2"
      ]
     },
     "execution_count": 94,
     "metadata": {},
     "output_type": "execute_result"
    }
   ],
   "source": [
    "# When DataFrames are appended together, we often need to create a new index\n",
    "# we can reset the index using the following function\n",
    "df_combine.reset_index()"
   ]
  },
  {
   "cell_type": "markdown",
   "metadata": {},
   "source": [
    "#### Join lets us join together dataframes using their index"
   ]
  },
  {
   "cell_type": "code",
   "execution_count": 95,
   "metadata": {
    "collapsed": false
   },
   "outputs": [
    {
     "data": {
      "text/html": [
       "<div>\n",
       "<table border=\"1\" class=\"dataframe\">\n",
       "  <thead>\n",
       "    <tr style=\"text-align: right;\">\n",
       "      <th></th>\n",
       "      <th>col</th>\n",
       "    </tr>\n",
       "  </thead>\n",
       "  <tbody>\n",
       "    <tr>\n",
       "      <th>0</th>\n",
       "      <td>1</td>\n",
       "    </tr>\n",
       "    <tr>\n",
       "      <th>1</th>\n",
       "      <td>2</td>\n",
       "    </tr>\n",
       "    <tr>\n",
       "      <th>2</th>\n",
       "      <td>3</td>\n",
       "    </tr>\n",
       "  </tbody>\n",
       "</table>\n",
       "</div>"
      ],
      "text/plain": [
       "   col\n",
       "0    1\n",
       "1    2\n",
       "2    3"
      ]
     },
     "execution_count": 95,
     "metadata": {},
     "output_type": "execute_result"
    }
   ],
   "source": [
    "df_2 = pd.DataFrame([1, 2, 3], columns=['col'])\n",
    "df_2"
   ]
  },
  {
   "cell_type": "code",
   "execution_count": 96,
   "metadata": {
    "collapsed": false
   },
   "outputs": [
    {
     "data": {
      "text/html": [
       "<div>\n",
       "<table border=\"1\" class=\"dataframe\">\n",
       "  <thead>\n",
       "    <tr style=\"text-align: right;\">\n",
       "      <th></th>\n",
       "      <th>numeric</th>\n",
       "      <th>C</th>\n",
       "      <th>D</th>\n",
       "      <th>col</th>\n",
       "    </tr>\n",
       "    <tr>\n",
       "      <th>col_a</th>\n",
       "      <th></th>\n",
       "      <th></th>\n",
       "      <th></th>\n",
       "      <th></th>\n",
       "    </tr>\n",
       "  </thead>\n",
       "  <tbody>\n",
       "    <tr>\n",
       "      <th>a</th>\n",
       "      <td>5</td>\n",
       "      <td>5</td>\n",
       "      <td>5</td>\n",
       "      <td>NaN</td>\n",
       "    </tr>\n",
       "    <tr>\n",
       "      <th>b</th>\n",
       "      <td>3</td>\n",
       "      <td>3</td>\n",
       "      <td>3</td>\n",
       "      <td>NaN</td>\n",
       "    </tr>\n",
       "    <tr>\n",
       "      <th>c</th>\n",
       "      <td>2</td>\n",
       "      <td>3</td>\n",
       "      <td>2</td>\n",
       "      <td>NaN</td>\n",
       "    </tr>\n",
       "  </tbody>\n",
       "</table>\n",
       "</div>"
      ],
      "text/plain": [
       "       numeric  C  D  col\n",
       "col_a                    \n",
       "a            5  5  5  NaN\n",
       "b            3  3  3  NaN\n",
       "c            2  3  2  NaN"
      ]
     },
     "execution_count": 96,
     "metadata": {},
     "output_type": "execute_result"
    }
   ],
   "source": [
    "# The default is left join, so Null values are placed\n",
    "# where values are misssing\n",
    "df.join(df_2)\n"
   ]
  },
  {
   "cell_type": "code",
   "execution_count": 97,
   "metadata": {
    "collapsed": false
   },
   "outputs": [
    {
     "data": {
      "text/html": [
       "<div>\n",
       "<table border=\"1\" class=\"dataframe\">\n",
       "  <thead>\n",
       "    <tr style=\"text-align: right;\">\n",
       "      <th></th>\n",
       "      <th>col_a</th>\n",
       "      <th>numeric</th>\n",
       "      <th>C</th>\n",
       "      <th>D</th>\n",
       "    </tr>\n",
       "  </thead>\n",
       "  <tbody>\n",
       "    <tr>\n",
       "      <th>0</th>\n",
       "      <td>a</td>\n",
       "      <td>5</td>\n",
       "      <td>5</td>\n",
       "      <td>5</td>\n",
       "    </tr>\n",
       "    <tr>\n",
       "      <th>1</th>\n",
       "      <td>b</td>\n",
       "      <td>3</td>\n",
       "      <td>3</td>\n",
       "      <td>3</td>\n",
       "    </tr>\n",
       "    <tr>\n",
       "      <th>2</th>\n",
       "      <td>c</td>\n",
       "      <td>2</td>\n",
       "      <td>3</td>\n",
       "      <td>2</td>\n",
       "    </tr>\n",
       "  </tbody>\n",
       "</table>\n",
       "</div>"
      ],
      "text/plain": [
       "  col_a  numeric  C  D\n",
       "0     a        5  5  5\n",
       "1     b        3  3  3\n",
       "2     c        2  3  2"
      ]
     },
     "execution_count": 97,
     "metadata": {},
     "output_type": "execute_result"
    }
   ],
   "source": [
    "# reset the index\n",
    "df_1 = df.reset_index()\n",
    "df_1"
   ]
  },
  {
   "cell_type": "code",
   "execution_count": 98,
   "metadata": {
    "collapsed": false
   },
   "outputs": [
    {
     "data": {
      "text/html": [
       "<div>\n",
       "<table border=\"1\" class=\"dataframe\">\n",
       "  <thead>\n",
       "    <tr style=\"text-align: right;\">\n",
       "      <th></th>\n",
       "      <th>col_a</th>\n",
       "      <th>numeric</th>\n",
       "      <th>C</th>\n",
       "      <th>D</th>\n",
       "      <th>col</th>\n",
       "    </tr>\n",
       "  </thead>\n",
       "  <tbody>\n",
       "    <tr>\n",
       "      <th>0</th>\n",
       "      <td>a</td>\n",
       "      <td>5</td>\n",
       "      <td>5</td>\n",
       "      <td>5</td>\n",
       "      <td>1</td>\n",
       "    </tr>\n",
       "    <tr>\n",
       "      <th>1</th>\n",
       "      <td>b</td>\n",
       "      <td>3</td>\n",
       "      <td>3</td>\n",
       "      <td>3</td>\n",
       "      <td>2</td>\n",
       "    </tr>\n",
       "    <tr>\n",
       "      <th>2</th>\n",
       "      <td>c</td>\n",
       "      <td>2</td>\n",
       "      <td>3</td>\n",
       "      <td>2</td>\n",
       "      <td>3</td>\n",
       "    </tr>\n",
       "  </tbody>\n",
       "</table>\n",
       "</div>"
      ],
      "text/plain": [
       "  col_a  numeric  C  D  col\n",
       "0     a        5  5  5    1\n",
       "1     b        3  3  3    2\n",
       "2     c        2  3  2    3"
      ]
     },
     "execution_count": 98,
     "metadata": {},
     "output_type": "execute_result"
    }
   ],
   "source": [
    "# try joining again:\n",
    "df_1.join(df_2)\n"
   ]
  },
  {
   "cell_type": "markdown",
   "metadata": {},
   "source": [
    "#### Merge allows us to join on any fields"
   ]
  },
  {
   "cell_type": "code",
   "execution_count": 99,
   "metadata": {
    "collapsed": false
   },
   "outputs": [
    {
     "data": {
      "text/html": [
       "<div>\n",
       "<table border=\"1\" class=\"dataframe\">\n",
       "  <thead>\n",
       "    <tr style=\"text-align: right;\">\n",
       "      <th></th>\n",
       "      <th>numeric</th>\n",
       "      <th>C</th>\n",
       "      <th>D</th>\n",
       "      <th>col</th>\n",
       "    </tr>\n",
       "  </thead>\n",
       "  <tbody>\n",
       "    <tr>\n",
       "      <th>0</th>\n",
       "      <td>3</td>\n",
       "      <td>3</td>\n",
       "      <td>3</td>\n",
       "      <td>3</td>\n",
       "    </tr>\n",
       "    <tr>\n",
       "      <th>1</th>\n",
       "      <td>2</td>\n",
       "      <td>3</td>\n",
       "      <td>2</td>\n",
       "      <td>2</td>\n",
       "    </tr>\n",
       "  </tbody>\n",
       "</table>\n",
       "</div>"
      ],
      "text/plain": [
       "   numeric  C  D  col\n",
       "0        3  3  3    3\n",
       "1        2  3  2    2"
      ]
     },
     "execution_count": 99,
     "metadata": {},
     "output_type": "execute_result"
    }
   ],
   "source": [
    "# Merge has a default of inner join\n",
    "# So where the join misses rows are omitted\n",
    "# left_on is the left data frame\n",
    "# right_on is the right data frame\n",
    "df.merge(df_2, left_on='numeric', right_on='col')"
   ]
  },
  {
   "cell_type": "markdown",
   "metadata": {},
   "source": [
    "### Concat combines a list of DataFrames together"
   ]
  },
  {
   "cell_type": "code",
   "execution_count": 100,
   "metadata": {
    "collapsed": false
   },
   "outputs": [
    {
     "data": {
      "text/html": [
       "<div>\n",
       "<table border=\"1\" class=\"dataframe\">\n",
       "  <thead>\n",
       "    <tr style=\"text-align: right;\">\n",
       "      <th></th>\n",
       "      <th>numeric</th>\n",
       "      <th>C</th>\n",
       "      <th>D</th>\n",
       "    </tr>\n",
       "    <tr>\n",
       "      <th>col_a</th>\n",
       "      <th></th>\n",
       "      <th></th>\n",
       "      <th></th>\n",
       "    </tr>\n",
       "  </thead>\n",
       "  <tbody>\n",
       "    <tr>\n",
       "      <th>a</th>\n",
       "      <td>5</td>\n",
       "      <td>5</td>\n",
       "      <td>5</td>\n",
       "    </tr>\n",
       "    <tr>\n",
       "      <th>b</th>\n",
       "      <td>3</td>\n",
       "      <td>3</td>\n",
       "      <td>3</td>\n",
       "    </tr>\n",
       "    <tr>\n",
       "      <th>c</th>\n",
       "      <td>2</td>\n",
       "      <td>3</td>\n",
       "      <td>2</td>\n",
       "    </tr>\n",
       "    <tr>\n",
       "      <th>a</th>\n",
       "      <td>5</td>\n",
       "      <td>5</td>\n",
       "      <td>5</td>\n",
       "    </tr>\n",
       "    <tr>\n",
       "      <th>b</th>\n",
       "      <td>3</td>\n",
       "      <td>3</td>\n",
       "      <td>3</td>\n",
       "    </tr>\n",
       "    <tr>\n",
       "      <th>c</th>\n",
       "      <td>2</td>\n",
       "      <td>3</td>\n",
       "      <td>2</td>\n",
       "    </tr>\n",
       "  </tbody>\n",
       "</table>\n",
       "</div>"
      ],
      "text/plain": [
       "       numeric  C  D\n",
       "col_a               \n",
       "a            5  5  5\n",
       "b            3  3  3\n",
       "c            2  3  2\n",
       "a            5  5  5\n",
       "b            3  3  3\n",
       "c            2  3  2"
      ]
     },
     "execution_count": 100,
     "metadata": {},
     "output_type": "execute_result"
    }
   ],
   "source": [
    "# It can be used like append\n",
    "pd.concat([df, df])"
   ]
  },
  {
   "cell_type": "code",
   "execution_count": 101,
   "metadata": {
    "collapsed": false
   },
   "outputs": [
    {
     "data": {
      "text/html": [
       "<div>\n",
       "<table border=\"1\" class=\"dataframe\">\n",
       "  <thead>\n",
       "    <tr style=\"text-align: right;\">\n",
       "      <th></th>\n",
       "      <th>C</th>\n",
       "      <th>D</th>\n",
       "      <th>col</th>\n",
       "      <th>numeric</th>\n",
       "    </tr>\n",
       "    <tr>\n",
       "      <th>col_a</th>\n",
       "      <th></th>\n",
       "      <th></th>\n",
       "      <th></th>\n",
       "      <th></th>\n",
       "    </tr>\n",
       "  </thead>\n",
       "  <tbody>\n",
       "    <tr>\n",
       "      <th>a</th>\n",
       "      <td>5</td>\n",
       "      <td>5</td>\n",
       "      <td>NaN</td>\n",
       "      <td>5</td>\n",
       "    </tr>\n",
       "    <tr>\n",
       "      <th>b</th>\n",
       "      <td>3</td>\n",
       "      <td>3</td>\n",
       "      <td>NaN</td>\n",
       "      <td>3</td>\n",
       "    </tr>\n",
       "    <tr>\n",
       "      <th>c</th>\n",
       "      <td>3</td>\n",
       "      <td>2</td>\n",
       "      <td>NaN</td>\n",
       "      <td>2</td>\n",
       "    </tr>\n",
       "    <tr>\n",
       "      <th>0</th>\n",
       "      <td>NaN</td>\n",
       "      <td>NaN</td>\n",
       "      <td>1</td>\n",
       "      <td>NaN</td>\n",
       "    </tr>\n",
       "    <tr>\n",
       "      <th>1</th>\n",
       "      <td>NaN</td>\n",
       "      <td>NaN</td>\n",
       "      <td>2</td>\n",
       "      <td>NaN</td>\n",
       "    </tr>\n",
       "    <tr>\n",
       "      <th>2</th>\n",
       "      <td>NaN</td>\n",
       "      <td>NaN</td>\n",
       "      <td>3</td>\n",
       "      <td>NaN</td>\n",
       "    </tr>\n",
       "  </tbody>\n",
       "</table>\n",
       "</div>"
      ],
      "text/plain": [
       "        C   D  col  numeric\n",
       "col_a                      \n",
       "a       5   5  NaN        5\n",
       "b       3   3  NaN        3\n",
       "c       3   2  NaN        2\n",
       "0     NaN NaN    1      NaN\n",
       "1     NaN NaN    2      NaN\n",
       "2     NaN NaN    3      NaN"
      ]
     },
     "execution_count": 101,
     "metadata": {},
     "output_type": "execute_result"
    }
   ],
   "source": [
    "# But concat will create a spare DataFrame when columns don't match\n",
    "# This can create huge dataframes when mismatches occur\n",
    "pd.concat([df, df_2])"
   ]
  },
  {
   "cell_type": "markdown",
   "metadata": {},
   "source": [
    "## Exercise 2\n",
    "### Combining numpy and pandas"
   ]
  },
  {
   "cell_type": "markdown",
   "metadata": {},
   "source": [
    "1) Create 2 arrays of integers\n",
    "\n",
    "One should be created using np.random"
   ]
  },
  {
   "cell_type": "code",
   "execution_count": 109,
   "metadata": {
    "collapsed": false
   },
   "outputs": [
    {
     "data": {
      "text/plain": [
       "array([[ 0.3954838 ,  0.34404913],\n",
       "       [ 0.67605838,  0.73840937]])"
      ]
     },
     "execution_count": 109,
     "metadata": {},
     "output_type": "execute_result"
    }
   ],
   "source": [
    "max1 = np.random.rand(2,2)\n",
    "\n",
    "max1 "
   ]
  },
  {
   "cell_type": "code",
   "execution_count": 110,
   "metadata": {
    "collapsed": false
   },
   "outputs": [
    {
     "data": {
      "text/plain": [
       "array([[ 0.8385117 ,  0.1609604 ],\n",
       "       [ 0.44901179,  0.77349078]])"
      ]
     },
     "execution_count": 110,
     "metadata": {},
     "output_type": "execute_result"
    }
   ],
   "source": [
    "max2 = np.random.rand(2,2)\n",
    "\n",
    "max2"
   ]
  },
  {
   "cell_type": "markdown",
   "metadata": {},
   "source": [
    "2) Turn those arrays into pandas DataFrames\n",
    "\n",
    "The columns can be named numerically"
   ]
  },
  {
   "cell_type": "code",
   "execution_count": 112,
   "metadata": {
    "collapsed": false
   },
   "outputs": [
    {
     "data": {
      "text/html": [
       "<div>\n",
       "<table border=\"1\" class=\"dataframe\">\n",
       "  <thead>\n",
       "    <tr style=\"text-align: right;\">\n",
       "      <th></th>\n",
       "      <th>col_a</th>\n",
       "      <th>col_b</th>\n",
       "    </tr>\n",
       "  </thead>\n",
       "  <tbody>\n",
       "    <tr>\n",
       "      <th>0</th>\n",
       "      <td>0.395484</td>\n",
       "      <td>0.344049</td>\n",
       "    </tr>\n",
       "    <tr>\n",
       "      <th>1</th>\n",
       "      <td>0.676058</td>\n",
       "      <td>0.738409</td>\n",
       "    </tr>\n",
       "  </tbody>\n",
       "</table>\n",
       "</div>"
      ],
      "text/plain": [
       "      col_a     col_b\n",
       "0  0.395484  0.344049\n",
       "1  0.676058  0.738409"
      ]
     },
     "execution_count": 112,
     "metadata": {},
     "output_type": "execute_result"
    }
   ],
   "source": [
    "maxDat1 = pd.DataFrame(max1, columns=['col_a', 'col_b'])\n",
    "maxDat1\n"
   ]
  },
  {
   "cell_type": "code",
   "execution_count": 113,
   "metadata": {
    "collapsed": false
   },
   "outputs": [
    {
     "data": {
      "text/html": [
       "<div>\n",
       "<table border=\"1\" class=\"dataframe\">\n",
       "  <thead>\n",
       "    <tr style=\"text-align: right;\">\n",
       "      <th></th>\n",
       "      <th>col_a</th>\n",
       "      <th>col_b</th>\n",
       "    </tr>\n",
       "  </thead>\n",
       "  <tbody>\n",
       "    <tr>\n",
       "      <th>0</th>\n",
       "      <td>0.838512</td>\n",
       "      <td>0.160960</td>\n",
       "    </tr>\n",
       "    <tr>\n",
       "      <th>1</th>\n",
       "      <td>0.449012</td>\n",
       "      <td>0.773491</td>\n",
       "    </tr>\n",
       "  </tbody>\n",
       "</table>\n",
       "</div>"
      ],
      "text/plain": [
       "      col_a     col_b\n",
       "0  0.838512  0.160960\n",
       "1  0.449012  0.773491"
      ]
     },
     "execution_count": 113,
     "metadata": {},
     "output_type": "execute_result"
    }
   ],
   "source": [
    "maxDat2 = pd.DataFrame(max2, columns=['col_a', 'col_b'])\n",
    "maxDat2"
   ]
  },
  {
   "cell_type": "markdown",
   "metadata": {},
   "source": [
    "3) Use some of the summary functions on the dataframes and arrays\n",
    "\n",
    "Show how mean and var give the same response in python and numpy"
   ]
  },
  {
   "cell_type": "code",
   "execution_count": 115,
   "metadata": {
    "collapsed": false
   },
   "outputs": [
    {
     "name": "stdout",
     "output_type": "stream",
     "text": [
      "0.535771088151\n",
      "0.0393610462623\n"
     ]
    }
   ],
   "source": [
    "print maxDat1.col_a.mean()\n",
    "print maxDat1.col_a.var()"
   ]
  },
  {
   "cell_type": "markdown",
   "metadata": {},
   "source": [
    "\n",
    "4) Add an extra index using .loc"
   ]
  },
  {
   "cell_type": "code",
   "execution_count": 125,
   "metadata": {
    "collapsed": false
   },
   "outputs": [
    {
     "data": {
      "text/html": [
       "<div>\n",
       "<table border=\"1\" class=\"dataframe\">\n",
       "  <thead>\n",
       "    <tr style=\"text-align: right;\">\n",
       "      <th></th>\n",
       "      <th>col_a</th>\n",
       "      <th>col_b</th>\n",
       "      <th>D</th>\n",
       "    </tr>\n",
       "  </thead>\n",
       "  <tbody>\n",
       "    <tr>\n",
       "      <th>0</th>\n",
       "      <td>0.395484</td>\n",
       "      <td>0.344049</td>\n",
       "      <td>0.344049</td>\n",
       "    </tr>\n",
       "    <tr>\n",
       "      <th>1</th>\n",
       "      <td>0.676058</td>\n",
       "      <td>0.738409</td>\n",
       "      <td>0.738409</td>\n",
       "    </tr>\n",
       "  </tbody>\n",
       "</table>\n",
       "</div>"
      ],
      "text/plain": [
       "      col_a     col_b         D\n",
       "0  0.395484  0.344049  0.344049\n",
       "1  0.676058  0.738409  0.738409"
      ]
     },
     "execution_count": 125,
     "metadata": {},
     "output_type": "execute_result"
    }
   ],
   "source": [
    "maxDat1['D'] = maxDat1.loc[:,'col_b']\n",
    "maxDat1"
   ]
  },
  {
   "cell_type": "code",
   "execution_count": null,
   "metadata": {
    "collapsed": true
   },
   "outputs": [],
   "source": []
  },
  {
   "cell_type": "markdown",
   "metadata": {},
   "source": [
    "5) Using merge or join, create a single DataFrame from the two"
   ]
  },
  {
   "cell_type": "code",
   "execution_count": 126,
   "metadata": {
    "collapsed": false
   },
   "outputs": [
    {
     "data": {
      "text/html": [
       "<div>\n",
       "<table border=\"1\" class=\"dataframe\">\n",
       "  <thead>\n",
       "    <tr style=\"text-align: right;\">\n",
       "      <th></th>\n",
       "      <th>col_a</th>\n",
       "      <th>col_b</th>\n",
       "      <th>D</th>\n",
       "      <th>col_a_2</th>\n",
       "      <th>col_b_2</th>\n",
       "    </tr>\n",
       "  </thead>\n",
       "  <tbody>\n",
       "    <tr>\n",
       "      <th>0</th>\n",
       "      <td>0.395484</td>\n",
       "      <td>0.344049</td>\n",
       "      <td>0.344049</td>\n",
       "      <td>0.838512</td>\n",
       "      <td>0.160960</td>\n",
       "    </tr>\n",
       "    <tr>\n",
       "      <th>1</th>\n",
       "      <td>0.676058</td>\n",
       "      <td>0.738409</td>\n",
       "      <td>0.738409</td>\n",
       "      <td>0.449012</td>\n",
       "      <td>0.773491</td>\n",
       "    </tr>\n",
       "  </tbody>\n",
       "</table>\n",
       "</div>"
      ],
      "text/plain": [
       "      col_a     col_b         D   col_a_2   col_b_2\n",
       "0  0.395484  0.344049  0.344049  0.838512  0.160960\n",
       "1  0.676058  0.738409  0.738409  0.449012  0.773491"
      ]
     },
     "execution_count": 126,
     "metadata": {},
     "output_type": "execute_result"
    }
   ],
   "source": [
    "# make sure the column names are different in the data frames. It will throw an error otherwise\n",
    "# for join or merge the data frames need not be of the same size\n",
    "maxDat1.join(maxDat2, rsuffix='_2')"
   ]
  },
  {
   "cell_type": "markdown",
   "metadata": {},
   "source": [
    "6) Try testing out the groupby functions\n",
    "\n",
    "df.groupby(column).agg (agg can be an aggregate function, try sum, max, min...)\n",
    "\n",
    "Resources can be found here: http://pandas.pydata.org/pandas-docs/stable/10min.html#grouping\n"
   ]
  },
  {
   "cell_type": "code",
   "execution_count": null,
   "metadata": {
    "collapsed": true
   },
   "outputs": [],
   "source": []
  },
  {
   "cell_type": "markdown",
   "metadata": {},
   "source": [
    "## Plotting!"
   ]
  },
  {
   "cell_type": "code",
   "execution_count": null,
   "metadata": {
    "collapsed": false
   },
   "outputs": [],
   "source": [
    "import pandas.io.data\n",
    "import datetime\n",
    "import matplotlib.pyplot as plt\n",
    "\n",
    "%matplotlib inline\n",
    "\n",
    "mu, sigma = 0, 0.1\n",
    "normal_dist = np.random.normal(mu, sigma, 1000)\n",
    "aapl = pd.io.data.get_data_yahoo('FB', \n",
    "                                 start=datetime.datetime(2015, 4, 1), \n",
    "                                 end=datetime.datetime(2015, 4, 28))\n",
    "aapl.head()"
   ]
  },
  {
   "cell_type": "markdown",
   "metadata": {},
   "source": [
    "## MatPlotLib\n",
    "\n",
    "MatPlotLib is a standard, granular method for building visualizations. Although tried and true, it can be cumbersome compared to other higher level packages such as Seaborn or Bokeh. Note most visualization packages use matplotlib as their base."
   ]
  },
  {
   "cell_type": "code",
   "execution_count": null,
   "metadata": {
    "collapsed": false
   },
   "outputs": [],
   "source": [
    "fig = plt.figure(figsize=(20,16))\n",
    "\n",
    "ax = fig.add_subplot(2,2,1)\n",
    "ax.plot(aapl.index, aapl['Close'])\n",
    "ax.set_title('Line plots', size=24)\n",
    "\n",
    "ax = fig.add_subplot(2,2,2)\n",
    "ax.plot(aapl['Close'], 'o')\n",
    "ax.set_title('Scatter plots', size=24)\n",
    "\n",
    "ax = fig.add_subplot(2,2,3)\n",
    "ax.hist(normal_dist, bins=50)\n",
    "ax.set_title('Histograms', size=24)\n",
    "ax.set_xlabel('count', size=16)\n",
    "\n",
    "ax = fig.add_subplot(2,2,4)\n",
    "ax.boxplot(normal_dist)\n",
    "ax.set_title('Boxplots', size=24)"
   ]
  },
  {
   "cell_type": "markdown",
   "metadata": {},
   "source": [
    "### Bokeh\n",
    "To install Bokeh, go to a terminal and type:\n",
    "\n",
    "`conda install bokeh` \n",
    "\n",
    "Bokeh is built by the same people that created Anaconda (Continuum Analytics) and is designed out of the box for web display, making it nice for creating presentation ready, interactive visuals quickly. Labs in this course will be shown in Bokeh. Checkout http://bokeh.pydata.org/en/latest/docs/quickstart.html#concepts to see some of the range of capabilities."
   ]
  },
  {
   "cell_type": "code",
   "execution_count": null,
   "metadata": {
    "collapsed": false
   },
   "outputs": [],
   "source": [
    "from bokeh.plotting import figure, output_notebook,show\n",
    "output_notebook()"
   ]
  },
  {
   "cell_type": "code",
   "execution_count": null,
   "metadata": {
    "collapsed": false
   },
   "outputs": [],
   "source": [
    "# prepare some data\n",
    "x = aapl.Low\n",
    "y = aapl['High']\n",
    "\n",
    "# create a new plot with a title and axis labels\n",
    "p = figure(title=\"Stock High vs. Low\", x_axis_label='Low', y_axis_label='High')\n",
    "\n",
    "# add a line renderer with legend and line thickness\n",
    "p.circle(x, y, legend=\"High vs. Low\", line_width=2)\n",
    "\n",
    "# show the results\n",
    "show(p)"
   ]
  },
  {
   "cell_type": "code",
   "execution_count": null,
   "metadata": {
    "collapsed": false
   },
   "outputs": [],
   "source": [
    "x = aapl.index\n",
    "y = aapl.Close\n",
    "p = figure(title=\"Stock Open & Close over time\", x_axis_label='Date', y_axis_label='High',x_axis_type=\"datetime\")\n",
    "# Note that I've declared the x_axis_type\n",
    "p.square(x, y, legend=\"Close\")\n",
    "p.circle(x,aapl.Open,legend='Open',color='red')\n",
    "# show the results\n",
    "show(p)"
   ]
  },
  {
   "cell_type": "markdown",
   "metadata": {},
   "source": [
    "## Pandas Plotting!\n",
    "\n",
    "The plot method is a great, quick way to visualize your dataframes. By selecting the columns you care to view, calling .plot() on the dataframe defaults to a line chart vs. the index.\n",
    "\n",
    "We will be revisiting this so just take a second to appreciate what can be done with one line of code."
   ]
  },
  {
   "cell_type": "code",
   "execution_count": null,
   "metadata": {
    "collapsed": false
   },
   "outputs": [],
   "source": [
    "aapl[['Open','Close']].plot()"
   ]
  },
  {
   "cell_type": "code",
   "execution_count": null,
   "metadata": {
    "collapsed": false
   },
   "outputs": [],
   "source": [
    "aapl[['High','Low','Open','Close']].plot(kind='box')"
   ]
  },
  {
   "cell_type": "code",
   "execution_count": null,
   "metadata": {
    "collapsed": true
   },
   "outputs": [],
   "source": []
  }
 ],
 "metadata": {
  "kernelspec": {
   "display_name": "Python 2",
   "language": "python",
   "name": "python2"
  },
  "language_info": {
   "codemirror_mode": {
    "name": "ipython",
    "version": 2
   },
   "file_extension": ".py",
   "mimetype": "text/x-python",
   "name": "python",
   "nbconvert_exporter": "python",
   "pygments_lexer": "ipython2",
   "version": "2.7.10"
  }
 },
 "nbformat": 4,
 "nbformat_minor": 0
}
